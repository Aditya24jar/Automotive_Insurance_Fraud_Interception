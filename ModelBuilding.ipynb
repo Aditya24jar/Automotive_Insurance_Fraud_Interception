{
  "nbformat": 4,
  "nbformat_minor": 0,
  "metadata": {
    "colab": {
      "provenance": []
    },
    "kernelspec": {
      "name": "python3",
      "display_name": "Python 3"
    },
    "language_info": {
      "name": "python"
    }
  },
  "cells": [
    {
      "cell_type": "code",
      "execution_count": 65,
      "metadata": {
        "id": "mET5kpWc5F2n"
      },
      "outputs": [],
      "source": [
        "import numpy as np\n",
        "import pandas as pd\n",
        "import matplotlib.pyplot as plt\n",
        "import seaborn as sns\n",
        "import warnings\n",
        "warnings.filterwarnings('ignore')"
      ]
    },
    {
      "cell_type": "code",
      "source": [
        "pd.set_option('display.max_columns', None)"
      ],
      "metadata": {
        "id": "QHoIYUZVEhnE"
      },
      "execution_count": 66,
      "outputs": []
    },
    {
      "cell_type": "code",
      "source": [
        "df = pd.read_csv('/content/fraud_oracle_modelbuilding.csv')"
      ],
      "metadata": {
        "id": "2jFZhjzOEkf5"
      },
      "execution_count": 67,
      "outputs": []
    },
    {
      "cell_type": "code",
      "source": [
        "df"
      ],
      "metadata": {
        "colab": {
          "base_uri": "https://localhost:8080/",
          "height": 443
        },
        "id": "nZ_dFXXNFF2W",
        "outputId": "71d3c2bd-2916-4734-f744-6a6737d893b1"
      },
      "execution_count": 68,
      "outputs": [
        {
          "output_type": "execute_result",
          "data": {
            "text/plain": [
              "       WeekOfMonth  DayOfWeek  Manufacture_company  AccidentArea  \\\n",
              "0                5          3                    2             0   \n",
              "1                3          3                    2             0   \n",
              "2                5          5                    2             0   \n",
              "3                2          6                    1             1   \n",
              "4                5          1                    2             0   \n",
              "...            ...        ...                  ...           ...   \n",
              "15095            4          5                    1             0   \n",
              "15096            5          4                    0             0   \n",
              "15097            5          4                    1             1   \n",
              "15098            1          1                    1             0   \n",
              "15099            2          3                    1             0   \n",
              "\n",
              "       DayOfWeekClaimed  MonthClaimed  WeekOfMonthClaimed  Sex  MaritalStatus  \\\n",
              "0                     2             1                   1    1              1   \n",
              "1                     1             1                   4    0              1   \n",
              "2                     4            11                   2    0              0   \n",
              "3                     5             7                   1    0              0   \n",
              "4                     2             2                   2    1              1   \n",
              "...                 ...           ...                 ...  ...            ...   \n",
              "15095                 2            11                   5    0              0   \n",
              "15096                 5            12                   1    0              0   \n",
              "15097                 5            12                   1    0              1   \n",
              "15098                 4            12                   2    1              0   \n",
              "15099                 4            12                   3    0              1   \n",
              "\n",
              "       Age  Fault  PolicyType  VehicleCategory  VehiclePrice  FraudFound_P  \\\n",
              "0       21      0           8                1             5             0   \n",
              "1       34      0           3                1             5             0   \n",
              "2       47      0           3                1             5             0   \n",
              "3       65      1           1                1             1             0   \n",
              "4       27      1           3                1             5             0   \n",
              "...    ...    ...         ...              ...           ...           ...   \n",
              "15095   35      0           0                0             1             1   \n",
              "15096   30      0           1                1             2             0   \n",
              "15097   24      0           0                0             1             1   \n",
              "15098   34      1           2                0             1             0   \n",
              "15099   21      0           0                0             1             1   \n",
              "\n",
              "       RepNumber  Deductible  DriverRating  Days_Policy_Accident  \\\n",
              "0             12         300             1                     0   \n",
              "1             15         400             4                     0   \n",
              "2              7         400             3                     0   \n",
              "3              4         400             2                     0   \n",
              "4              3         400             1                     0   \n",
              "...          ...         ...           ...                   ...   \n",
              "15095          5         400             4                     0   \n",
              "15096         11         400             3                     0   \n",
              "15097          4         400             4                     0   \n",
              "15098          6         400             4                     0   \n",
              "15099          3         400             4                     0   \n",
              "\n",
              "       Days_Policy_Claim  PastNumberOfClaims  AgeOfVehicle  PoliceReportFiled  \\\n",
              "0                      0                   1             5                  0   \n",
              "1                      0                   1             2                  1   \n",
              "2                      0                   2             0                  0   \n",
              "3                      0                   2             1                  1   \n",
              "4                      0                   1             3                  0   \n",
              "...                  ...                 ...           ...                ...   \n",
              "15095                  0                   0             2                  0   \n",
              "15096                  0                   3             2                  0   \n",
              "15097                  0                   3             3                  0   \n",
              "15098                  0                   1             6                  0   \n",
              "15099                  0                   1             3                  0   \n",
              "\n",
              "       WitnessPresent  AgentType  NumberOfSuppliments  AddressChange_Claim  \\\n",
              "0                   0          0                    0                    3   \n",
              "1                   0          0                    0                    0   \n",
              "2                   0          0                    0                    0   \n",
              "3                   0          0                    1                    0   \n",
              "4                   0          0                    0                    0   \n",
              "...               ...        ...                  ...                  ...   \n",
              "15095               0          0                    0                    0   \n",
              "15096               0          0                    1                    0   \n",
              "15097               0          0                    2                    0   \n",
              "15098               0          0                    1                    0   \n",
              "15099               0          0                    2                    0   \n",
              "\n",
              "       NumberOfCars  Year  \n",
              "0                 2  1994  \n",
              "1                 0  1994  \n",
              "2                 0  1994  \n",
              "3                 0  1994  \n",
              "4                 0  1994  \n",
              "...             ...   ...  \n",
              "15095             0  1996  \n",
              "15096             2  1996  \n",
              "15097             0  1996  \n",
              "15098             0  1996  \n",
              "15099             0  1996  \n",
              "\n",
              "[15100 rows x 29 columns]"
            ],
            "text/html": [
              "\n",
              "  <div id=\"df-415be2b7-7f9f-4c89-87e5-49213afcedb8\" class=\"colab-df-container\">\n",
              "    <div>\n",
              "<style scoped>\n",
              "    .dataframe tbody tr th:only-of-type {\n",
              "        vertical-align: middle;\n",
              "    }\n",
              "\n",
              "    .dataframe tbody tr th {\n",
              "        vertical-align: top;\n",
              "    }\n",
              "\n",
              "    .dataframe thead th {\n",
              "        text-align: right;\n",
              "    }\n",
              "</style>\n",
              "<table border=\"1\" class=\"dataframe\">\n",
              "  <thead>\n",
              "    <tr style=\"text-align: right;\">\n",
              "      <th></th>\n",
              "      <th>WeekOfMonth</th>\n",
              "      <th>DayOfWeek</th>\n",
              "      <th>Manufacture_company</th>\n",
              "      <th>AccidentArea</th>\n",
              "      <th>DayOfWeekClaimed</th>\n",
              "      <th>MonthClaimed</th>\n",
              "      <th>WeekOfMonthClaimed</th>\n",
              "      <th>Sex</th>\n",
              "      <th>MaritalStatus</th>\n",
              "      <th>Age</th>\n",
              "      <th>Fault</th>\n",
              "      <th>PolicyType</th>\n",
              "      <th>VehicleCategory</th>\n",
              "      <th>VehiclePrice</th>\n",
              "      <th>FraudFound_P</th>\n",
              "      <th>RepNumber</th>\n",
              "      <th>Deductible</th>\n",
              "      <th>DriverRating</th>\n",
              "      <th>Days_Policy_Accident</th>\n",
              "      <th>Days_Policy_Claim</th>\n",
              "      <th>PastNumberOfClaims</th>\n",
              "      <th>AgeOfVehicle</th>\n",
              "      <th>PoliceReportFiled</th>\n",
              "      <th>WitnessPresent</th>\n",
              "      <th>AgentType</th>\n",
              "      <th>NumberOfSuppliments</th>\n",
              "      <th>AddressChange_Claim</th>\n",
              "      <th>NumberOfCars</th>\n",
              "      <th>Year</th>\n",
              "    </tr>\n",
              "  </thead>\n",
              "  <tbody>\n",
              "    <tr>\n",
              "      <th>0</th>\n",
              "      <td>5</td>\n",
              "      <td>3</td>\n",
              "      <td>2</td>\n",
              "      <td>0</td>\n",
              "      <td>2</td>\n",
              "      <td>1</td>\n",
              "      <td>1</td>\n",
              "      <td>1</td>\n",
              "      <td>1</td>\n",
              "      <td>21</td>\n",
              "      <td>0</td>\n",
              "      <td>8</td>\n",
              "      <td>1</td>\n",
              "      <td>5</td>\n",
              "      <td>0</td>\n",
              "      <td>12</td>\n",
              "      <td>300</td>\n",
              "      <td>1</td>\n",
              "      <td>0</td>\n",
              "      <td>0</td>\n",
              "      <td>1</td>\n",
              "      <td>5</td>\n",
              "      <td>0</td>\n",
              "      <td>0</td>\n",
              "      <td>0</td>\n",
              "      <td>0</td>\n",
              "      <td>3</td>\n",
              "      <td>2</td>\n",
              "      <td>1994</td>\n",
              "    </tr>\n",
              "    <tr>\n",
              "      <th>1</th>\n",
              "      <td>3</td>\n",
              "      <td>3</td>\n",
              "      <td>2</td>\n",
              "      <td>0</td>\n",
              "      <td>1</td>\n",
              "      <td>1</td>\n",
              "      <td>4</td>\n",
              "      <td>0</td>\n",
              "      <td>1</td>\n",
              "      <td>34</td>\n",
              "      <td>0</td>\n",
              "      <td>3</td>\n",
              "      <td>1</td>\n",
              "      <td>5</td>\n",
              "      <td>0</td>\n",
              "      <td>15</td>\n",
              "      <td>400</td>\n",
              "      <td>4</td>\n",
              "      <td>0</td>\n",
              "      <td>0</td>\n",
              "      <td>1</td>\n",
              "      <td>2</td>\n",
              "      <td>1</td>\n",
              "      <td>0</td>\n",
              "      <td>0</td>\n",
              "      <td>0</td>\n",
              "      <td>0</td>\n",
              "      <td>0</td>\n",
              "      <td>1994</td>\n",
              "    </tr>\n",
              "    <tr>\n",
              "      <th>2</th>\n",
              "      <td>5</td>\n",
              "      <td>5</td>\n",
              "      <td>2</td>\n",
              "      <td>0</td>\n",
              "      <td>4</td>\n",
              "      <td>11</td>\n",
              "      <td>2</td>\n",
              "      <td>0</td>\n",
              "      <td>0</td>\n",
              "      <td>47</td>\n",
              "      <td>0</td>\n",
              "      <td>3</td>\n",
              "      <td>1</td>\n",
              "      <td>5</td>\n",
              "      <td>0</td>\n",
              "      <td>7</td>\n",
              "      <td>400</td>\n",
              "      <td>3</td>\n",
              "      <td>0</td>\n",
              "      <td>0</td>\n",
              "      <td>2</td>\n",
              "      <td>0</td>\n",
              "      <td>0</td>\n",
              "      <td>0</td>\n",
              "      <td>0</td>\n",
              "      <td>0</td>\n",
              "      <td>0</td>\n",
              "      <td>0</td>\n",
              "      <td>1994</td>\n",
              "    </tr>\n",
              "    <tr>\n",
              "      <th>3</th>\n",
              "      <td>2</td>\n",
              "      <td>6</td>\n",
              "      <td>1</td>\n",
              "      <td>1</td>\n",
              "      <td>5</td>\n",
              "      <td>7</td>\n",
              "      <td>1</td>\n",
              "      <td>0</td>\n",
              "      <td>0</td>\n",
              "      <td>65</td>\n",
              "      <td>1</td>\n",
              "      <td>1</td>\n",
              "      <td>1</td>\n",
              "      <td>1</td>\n",
              "      <td>0</td>\n",
              "      <td>4</td>\n",
              "      <td>400</td>\n",
              "      <td>2</td>\n",
              "      <td>0</td>\n",
              "      <td>0</td>\n",
              "      <td>2</td>\n",
              "      <td>1</td>\n",
              "      <td>1</td>\n",
              "      <td>0</td>\n",
              "      <td>0</td>\n",
              "      <td>1</td>\n",
              "      <td>0</td>\n",
              "      <td>0</td>\n",
              "      <td>1994</td>\n",
              "    </tr>\n",
              "    <tr>\n",
              "      <th>4</th>\n",
              "      <td>5</td>\n",
              "      <td>1</td>\n",
              "      <td>2</td>\n",
              "      <td>0</td>\n",
              "      <td>2</td>\n",
              "      <td>2</td>\n",
              "      <td>2</td>\n",
              "      <td>1</td>\n",
              "      <td>1</td>\n",
              "      <td>27</td>\n",
              "      <td>1</td>\n",
              "      <td>3</td>\n",
              "      <td>1</td>\n",
              "      <td>5</td>\n",
              "      <td>0</td>\n",
              "      <td>3</td>\n",
              "      <td>400</td>\n",
              "      <td>1</td>\n",
              "      <td>0</td>\n",
              "      <td>0</td>\n",
              "      <td>1</td>\n",
              "      <td>3</td>\n",
              "      <td>0</td>\n",
              "      <td>0</td>\n",
              "      <td>0</td>\n",
              "      <td>0</td>\n",
              "      <td>0</td>\n",
              "      <td>0</td>\n",
              "      <td>1994</td>\n",
              "    </tr>\n",
              "    <tr>\n",
              "      <th>...</th>\n",
              "      <td>...</td>\n",
              "      <td>...</td>\n",
              "      <td>...</td>\n",
              "      <td>...</td>\n",
              "      <td>...</td>\n",
              "      <td>...</td>\n",
              "      <td>...</td>\n",
              "      <td>...</td>\n",
              "      <td>...</td>\n",
              "      <td>...</td>\n",
              "      <td>...</td>\n",
              "      <td>...</td>\n",
              "      <td>...</td>\n",
              "      <td>...</td>\n",
              "      <td>...</td>\n",
              "      <td>...</td>\n",
              "      <td>...</td>\n",
              "      <td>...</td>\n",
              "      <td>...</td>\n",
              "      <td>...</td>\n",
              "      <td>...</td>\n",
              "      <td>...</td>\n",
              "      <td>...</td>\n",
              "      <td>...</td>\n",
              "      <td>...</td>\n",
              "      <td>...</td>\n",
              "      <td>...</td>\n",
              "      <td>...</td>\n",
              "      <td>...</td>\n",
              "    </tr>\n",
              "    <tr>\n",
              "      <th>15095</th>\n",
              "      <td>4</td>\n",
              "      <td>5</td>\n",
              "      <td>1</td>\n",
              "      <td>0</td>\n",
              "      <td>2</td>\n",
              "      <td>11</td>\n",
              "      <td>5</td>\n",
              "      <td>0</td>\n",
              "      <td>0</td>\n",
              "      <td>35</td>\n",
              "      <td>0</td>\n",
              "      <td>0</td>\n",
              "      <td>0</td>\n",
              "      <td>1</td>\n",
              "      <td>1</td>\n",
              "      <td>5</td>\n",
              "      <td>400</td>\n",
              "      <td>4</td>\n",
              "      <td>0</td>\n",
              "      <td>0</td>\n",
              "      <td>0</td>\n",
              "      <td>2</td>\n",
              "      <td>0</td>\n",
              "      <td>0</td>\n",
              "      <td>0</td>\n",
              "      <td>0</td>\n",
              "      <td>0</td>\n",
              "      <td>0</td>\n",
              "      <td>1996</td>\n",
              "    </tr>\n",
              "    <tr>\n",
              "      <th>15096</th>\n",
              "      <td>5</td>\n",
              "      <td>4</td>\n",
              "      <td>0</td>\n",
              "      <td>0</td>\n",
              "      <td>5</td>\n",
              "      <td>12</td>\n",
              "      <td>1</td>\n",
              "      <td>0</td>\n",
              "      <td>0</td>\n",
              "      <td>30</td>\n",
              "      <td>0</td>\n",
              "      <td>1</td>\n",
              "      <td>1</td>\n",
              "      <td>2</td>\n",
              "      <td>0</td>\n",
              "      <td>11</td>\n",
              "      <td>400</td>\n",
              "      <td>3</td>\n",
              "      <td>0</td>\n",
              "      <td>0</td>\n",
              "      <td>3</td>\n",
              "      <td>2</td>\n",
              "      <td>0</td>\n",
              "      <td>0</td>\n",
              "      <td>0</td>\n",
              "      <td>1</td>\n",
              "      <td>0</td>\n",
              "      <td>2</td>\n",
              "      <td>1996</td>\n",
              "    </tr>\n",
              "    <tr>\n",
              "      <th>15097</th>\n",
              "      <td>5</td>\n",
              "      <td>4</td>\n",
              "      <td>1</td>\n",
              "      <td>1</td>\n",
              "      <td>5</td>\n",
              "      <td>12</td>\n",
              "      <td>1</td>\n",
              "      <td>0</td>\n",
              "      <td>1</td>\n",
              "      <td>24</td>\n",
              "      <td>0</td>\n",
              "      <td>0</td>\n",
              "      <td>0</td>\n",
              "      <td>1</td>\n",
              "      <td>1</td>\n",
              "      <td>4</td>\n",
              "      <td>400</td>\n",
              "      <td>4</td>\n",
              "      <td>0</td>\n",
              "      <td>0</td>\n",
              "      <td>3</td>\n",
              "      <td>3</td>\n",
              "      <td>0</td>\n",
              "      <td>0</td>\n",
              "      <td>0</td>\n",
              "      <td>2</td>\n",
              "      <td>0</td>\n",
              "      <td>0</td>\n",
              "      <td>1996</td>\n",
              "    </tr>\n",
              "    <tr>\n",
              "      <th>15098</th>\n",
              "      <td>1</td>\n",
              "      <td>1</td>\n",
              "      <td>1</td>\n",
              "      <td>0</td>\n",
              "      <td>4</td>\n",
              "      <td>12</td>\n",
              "      <td>2</td>\n",
              "      <td>1</td>\n",
              "      <td>0</td>\n",
              "      <td>34</td>\n",
              "      <td>1</td>\n",
              "      <td>2</td>\n",
              "      <td>0</td>\n",
              "      <td>1</td>\n",
              "      <td>0</td>\n",
              "      <td>6</td>\n",
              "      <td>400</td>\n",
              "      <td>4</td>\n",
              "      <td>0</td>\n",
              "      <td>0</td>\n",
              "      <td>1</td>\n",
              "      <td>6</td>\n",
              "      <td>0</td>\n",
              "      <td>0</td>\n",
              "      <td>0</td>\n",
              "      <td>1</td>\n",
              "      <td>0</td>\n",
              "      <td>0</td>\n",
              "      <td>1996</td>\n",
              "    </tr>\n",
              "    <tr>\n",
              "      <th>15099</th>\n",
              "      <td>2</td>\n",
              "      <td>3</td>\n",
              "      <td>1</td>\n",
              "      <td>0</td>\n",
              "      <td>4</td>\n",
              "      <td>12</td>\n",
              "      <td>3</td>\n",
              "      <td>0</td>\n",
              "      <td>1</td>\n",
              "      <td>21</td>\n",
              "      <td>0</td>\n",
              "      <td>0</td>\n",
              "      <td>0</td>\n",
              "      <td>1</td>\n",
              "      <td>1</td>\n",
              "      <td>3</td>\n",
              "      <td>400</td>\n",
              "      <td>4</td>\n",
              "      <td>0</td>\n",
              "      <td>0</td>\n",
              "      <td>1</td>\n",
              "      <td>3</td>\n",
              "      <td>0</td>\n",
              "      <td>0</td>\n",
              "      <td>0</td>\n",
              "      <td>2</td>\n",
              "      <td>0</td>\n",
              "      <td>0</td>\n",
              "      <td>1996</td>\n",
              "    </tr>\n",
              "  </tbody>\n",
              "</table>\n",
              "<p>15100 rows × 29 columns</p>\n",
              "</div>\n",
              "    <div class=\"colab-df-buttons\">\n",
              "\n",
              "  <div class=\"colab-df-container\">\n",
              "    <button class=\"colab-df-convert\" onclick=\"convertToInteractive('df-415be2b7-7f9f-4c89-87e5-49213afcedb8')\"\n",
              "            title=\"Convert this dataframe to an interactive table.\"\n",
              "            style=\"display:none;\">\n",
              "\n",
              "  <svg xmlns=\"http://www.w3.org/2000/svg\" height=\"24px\" viewBox=\"0 -960 960 960\">\n",
              "    <path d=\"M120-120v-720h720v720H120Zm60-500h600v-160H180v160Zm220 220h160v-160H400v160Zm0 220h160v-160H400v160ZM180-400h160v-160H180v160Zm440 0h160v-160H620v160ZM180-180h160v-160H180v160Zm440 0h160v-160H620v160Z\"/>\n",
              "  </svg>\n",
              "    </button>\n",
              "\n",
              "  <style>\n",
              "    .colab-df-container {\n",
              "      display:flex;\n",
              "      gap: 12px;\n",
              "    }\n",
              "\n",
              "    .colab-df-convert {\n",
              "      background-color: #E8F0FE;\n",
              "      border: none;\n",
              "      border-radius: 50%;\n",
              "      cursor: pointer;\n",
              "      display: none;\n",
              "      fill: #1967D2;\n",
              "      height: 32px;\n",
              "      padding: 0 0 0 0;\n",
              "      width: 32px;\n",
              "    }\n",
              "\n",
              "    .colab-df-convert:hover {\n",
              "      background-color: #E2EBFA;\n",
              "      box-shadow: 0px 1px 2px rgba(60, 64, 67, 0.3), 0px 1px 3px 1px rgba(60, 64, 67, 0.15);\n",
              "      fill: #174EA6;\n",
              "    }\n",
              "\n",
              "    .colab-df-buttons div {\n",
              "      margin-bottom: 4px;\n",
              "    }\n",
              "\n",
              "    [theme=dark] .colab-df-convert {\n",
              "      background-color: #3B4455;\n",
              "      fill: #D2E3FC;\n",
              "    }\n",
              "\n",
              "    [theme=dark] .colab-df-convert:hover {\n",
              "      background-color: #434B5C;\n",
              "      box-shadow: 0px 1px 3px 1px rgba(0, 0, 0, 0.15);\n",
              "      filter: drop-shadow(0px 1px 2px rgba(0, 0, 0, 0.3));\n",
              "      fill: #FFFFFF;\n",
              "    }\n",
              "  </style>\n",
              "\n",
              "    <script>\n",
              "      const buttonEl =\n",
              "        document.querySelector('#df-415be2b7-7f9f-4c89-87e5-49213afcedb8 button.colab-df-convert');\n",
              "      buttonEl.style.display =\n",
              "        google.colab.kernel.accessAllowed ? 'block' : 'none';\n",
              "\n",
              "      async function convertToInteractive(key) {\n",
              "        const element = document.querySelector('#df-415be2b7-7f9f-4c89-87e5-49213afcedb8');\n",
              "        const dataTable =\n",
              "          await google.colab.kernel.invokeFunction('convertToInteractive',\n",
              "                                                    [key], {});\n",
              "        if (!dataTable) return;\n",
              "\n",
              "        const docLinkHtml = 'Like what you see? Visit the ' +\n",
              "          '<a target=\"_blank\" href=https://colab.research.google.com/notebooks/data_table.ipynb>data table notebook</a>'\n",
              "          + ' to learn more about interactive tables.';\n",
              "        element.innerHTML = '';\n",
              "        dataTable['output_type'] = 'display_data';\n",
              "        await google.colab.output.renderOutput(dataTable, element);\n",
              "        const docLink = document.createElement('div');\n",
              "        docLink.innerHTML = docLinkHtml;\n",
              "        element.appendChild(docLink);\n",
              "      }\n",
              "    </script>\n",
              "  </div>\n",
              "\n",
              "\n",
              "<div id=\"df-4210054d-d59d-4e1b-a623-878f1c47b1cd\">\n",
              "  <button class=\"colab-df-quickchart\" onclick=\"quickchart('df-4210054d-d59d-4e1b-a623-878f1c47b1cd')\"\n",
              "            title=\"Suggest charts\"\n",
              "            style=\"display:none;\">\n",
              "\n",
              "<svg xmlns=\"http://www.w3.org/2000/svg\" height=\"24px\"viewBox=\"0 0 24 24\"\n",
              "     width=\"24px\">\n",
              "    <g>\n",
              "        <path d=\"M19 3H5c-1.1 0-2 .9-2 2v14c0 1.1.9 2 2 2h14c1.1 0 2-.9 2-2V5c0-1.1-.9-2-2-2zM9 17H7v-7h2v7zm4 0h-2V7h2v10zm4 0h-2v-4h2v4z\"/>\n",
              "    </g>\n",
              "</svg>\n",
              "  </button>\n",
              "\n",
              "<style>\n",
              "  .colab-df-quickchart {\n",
              "      --bg-color: #E8F0FE;\n",
              "      --fill-color: #1967D2;\n",
              "      --hover-bg-color: #E2EBFA;\n",
              "      --hover-fill-color: #174EA6;\n",
              "      --disabled-fill-color: #AAA;\n",
              "      --disabled-bg-color: #DDD;\n",
              "  }\n",
              "\n",
              "  [theme=dark] .colab-df-quickchart {\n",
              "      --bg-color: #3B4455;\n",
              "      --fill-color: #D2E3FC;\n",
              "      --hover-bg-color: #434B5C;\n",
              "      --hover-fill-color: #FFFFFF;\n",
              "      --disabled-bg-color: #3B4455;\n",
              "      --disabled-fill-color: #666;\n",
              "  }\n",
              "\n",
              "  .colab-df-quickchart {\n",
              "    background-color: var(--bg-color);\n",
              "    border: none;\n",
              "    border-radius: 50%;\n",
              "    cursor: pointer;\n",
              "    display: none;\n",
              "    fill: var(--fill-color);\n",
              "    height: 32px;\n",
              "    padding: 0;\n",
              "    width: 32px;\n",
              "  }\n",
              "\n",
              "  .colab-df-quickchart:hover {\n",
              "    background-color: var(--hover-bg-color);\n",
              "    box-shadow: 0 1px 2px rgba(60, 64, 67, 0.3), 0 1px 3px 1px rgba(60, 64, 67, 0.15);\n",
              "    fill: var(--button-hover-fill-color);\n",
              "  }\n",
              "\n",
              "  .colab-df-quickchart-complete:disabled,\n",
              "  .colab-df-quickchart-complete:disabled:hover {\n",
              "    background-color: var(--disabled-bg-color);\n",
              "    fill: var(--disabled-fill-color);\n",
              "    box-shadow: none;\n",
              "  }\n",
              "\n",
              "  .colab-df-spinner {\n",
              "    border: 2px solid var(--fill-color);\n",
              "    border-color: transparent;\n",
              "    border-bottom-color: var(--fill-color);\n",
              "    animation:\n",
              "      spin 1s steps(1) infinite;\n",
              "  }\n",
              "\n",
              "  @keyframes spin {\n",
              "    0% {\n",
              "      border-color: transparent;\n",
              "      border-bottom-color: var(--fill-color);\n",
              "      border-left-color: var(--fill-color);\n",
              "    }\n",
              "    20% {\n",
              "      border-color: transparent;\n",
              "      border-left-color: var(--fill-color);\n",
              "      border-top-color: var(--fill-color);\n",
              "    }\n",
              "    30% {\n",
              "      border-color: transparent;\n",
              "      border-left-color: var(--fill-color);\n",
              "      border-top-color: var(--fill-color);\n",
              "      border-right-color: var(--fill-color);\n",
              "    }\n",
              "    40% {\n",
              "      border-color: transparent;\n",
              "      border-right-color: var(--fill-color);\n",
              "      border-top-color: var(--fill-color);\n",
              "    }\n",
              "    60% {\n",
              "      border-color: transparent;\n",
              "      border-right-color: var(--fill-color);\n",
              "    }\n",
              "    80% {\n",
              "      border-color: transparent;\n",
              "      border-right-color: var(--fill-color);\n",
              "      border-bottom-color: var(--fill-color);\n",
              "    }\n",
              "    90% {\n",
              "      border-color: transparent;\n",
              "      border-bottom-color: var(--fill-color);\n",
              "    }\n",
              "  }\n",
              "</style>\n",
              "\n",
              "  <script>\n",
              "    async function quickchart(key) {\n",
              "      const quickchartButtonEl =\n",
              "        document.querySelector('#' + key + ' button');\n",
              "      quickchartButtonEl.disabled = true;  // To prevent multiple clicks.\n",
              "      quickchartButtonEl.classList.add('colab-df-spinner');\n",
              "      try {\n",
              "        const charts = await google.colab.kernel.invokeFunction(\n",
              "            'suggestCharts', [key], {});\n",
              "      } catch (error) {\n",
              "        console.error('Error during call to suggestCharts:', error);\n",
              "      }\n",
              "      quickchartButtonEl.classList.remove('colab-df-spinner');\n",
              "      quickchartButtonEl.classList.add('colab-df-quickchart-complete');\n",
              "    }\n",
              "    (() => {\n",
              "      let quickchartButtonEl =\n",
              "        document.querySelector('#df-4210054d-d59d-4e1b-a623-878f1c47b1cd button');\n",
              "      quickchartButtonEl.style.display =\n",
              "        google.colab.kernel.accessAllowed ? 'block' : 'none';\n",
              "    })();\n",
              "  </script>\n",
              "</div>\n",
              "\n",
              "  <div id=\"id_0e642a69-499c-4bff-9e6c-82de8e059b63\">\n",
              "    <style>\n",
              "      .colab-df-generate {\n",
              "        background-color: #E8F0FE;\n",
              "        border: none;\n",
              "        border-radius: 50%;\n",
              "        cursor: pointer;\n",
              "        display: none;\n",
              "        fill: #1967D2;\n",
              "        height: 32px;\n",
              "        padding: 0 0 0 0;\n",
              "        width: 32px;\n",
              "      }\n",
              "\n",
              "      .colab-df-generate:hover {\n",
              "        background-color: #E2EBFA;\n",
              "        box-shadow: 0px 1px 2px rgba(60, 64, 67, 0.3), 0px 1px 3px 1px rgba(60, 64, 67, 0.15);\n",
              "        fill: #174EA6;\n",
              "      }\n",
              "\n",
              "      [theme=dark] .colab-df-generate {\n",
              "        background-color: #3B4455;\n",
              "        fill: #D2E3FC;\n",
              "      }\n",
              "\n",
              "      [theme=dark] .colab-df-generate:hover {\n",
              "        background-color: #434B5C;\n",
              "        box-shadow: 0px 1px 3px 1px rgba(0, 0, 0, 0.15);\n",
              "        filter: drop-shadow(0px 1px 2px rgba(0, 0, 0, 0.3));\n",
              "        fill: #FFFFFF;\n",
              "      }\n",
              "    </style>\n",
              "    <button class=\"colab-df-generate\" onclick=\"generateWithVariable('df')\"\n",
              "            title=\"Generate code using this dataframe.\"\n",
              "            style=\"display:none;\">\n",
              "\n",
              "  <svg xmlns=\"http://www.w3.org/2000/svg\" height=\"24px\"viewBox=\"0 0 24 24\"\n",
              "       width=\"24px\">\n",
              "    <path d=\"M7,19H8.4L18.45,9,17,7.55,7,17.6ZM5,21V16.75L18.45,3.32a2,2,0,0,1,2.83,0l1.4,1.43a1.91,1.91,0,0,1,.58,1.4,1.91,1.91,0,0,1-.58,1.4L9.25,21ZM18.45,9,17,7.55Zm-12,3A5.31,5.31,0,0,0,4.9,8.1,5.31,5.31,0,0,0,1,6.5,5.31,5.31,0,0,0,4.9,4.9,5.31,5.31,0,0,0,6.5,1,5.31,5.31,0,0,0,8.1,4.9,5.31,5.31,0,0,0,12,6.5,5.46,5.46,0,0,0,6.5,12Z\"/>\n",
              "  </svg>\n",
              "    </button>\n",
              "    <script>\n",
              "      (() => {\n",
              "      const buttonEl =\n",
              "        document.querySelector('#id_0e642a69-499c-4bff-9e6c-82de8e059b63 button.colab-df-generate');\n",
              "      buttonEl.style.display =\n",
              "        google.colab.kernel.accessAllowed ? 'block' : 'none';\n",
              "\n",
              "      buttonEl.onclick = () => {\n",
              "        google.colab.notebook.generateWithVariable('df');\n",
              "      }\n",
              "      })();\n",
              "    </script>\n",
              "  </div>\n",
              "\n",
              "    </div>\n",
              "  </div>\n"
            ],
            "application/vnd.google.colaboratory.intrinsic+json": {
              "type": "dataframe",
              "variable_name": "df"
            }
          },
          "metadata": {},
          "execution_count": 68
        }
      ]
    },
    {
      "cell_type": "code",
      "source": [
        "X = df.loc[:, df.columns != 'FraudFound_P']\n",
        "y = df['FraudFound_P']"
      ],
      "metadata": {
        "id": "zhRVOgKDGeMw"
      },
      "execution_count": 69,
      "outputs": []
    },
    {
      "cell_type": "code",
      "source": [
        "from sklearn.model_selection import train_test_split\n",
        "from imblearn.over_sampling import SMOTE\n",
        "\n",
        "# Split dataset into training and testing sets\n",
        "X_train, X_test, y_train, y_test = train_test_split(X, y, test_size=0.2, random_state=42)\n",
        "\n",
        "# Applying SMOTE\n",
        "smote = SMOTE(random_state=42)\n",
        "X_resampled_smote, y_resampled_smote = smote.fit_resample(X_train, y_train)"
      ],
      "metadata": {
        "id": "4-KfgXzbFG2Q"
      },
      "execution_count": 70,
      "outputs": []
    },
    {
      "cell_type": "code",
      "source": [
        "pd.Series(y_resampled_smote).value_counts()"
      ],
      "metadata": {
        "colab": {
          "base_uri": "https://localhost:8080/"
        },
        "id": "guqR8NXEGkpQ",
        "outputId": "86f6058a-b89e-4ab4-aa9c-330e15590f8f"
      },
      "execution_count": 71,
      "outputs": [
        {
          "output_type": "execute_result",
          "data": {
            "text/plain": [
              "FraudFound_P\n",
              "0    11369\n",
              "1    11369\n",
              "Name: count, dtype: int64"
            ]
          },
          "metadata": {},
          "execution_count": 71
        }
      ]
    },
    {
      "cell_type": "code",
      "source": [
        "from sklearn.linear_model import LogisticRegression\n",
        "from sklearn.metrics import classification_report,confusion_matrix,ConfusionMatrixDisplay,accuracy_score"
      ],
      "metadata": {
        "id": "LyLSHCWBG2sW"
      },
      "execution_count": 72,
      "outputs": []
    },
    {
      "cell_type": "code",
      "source": [
        "classifier_smote = LogisticRegression()\n",
        "classifier_smote.fit(X_resampled_smote, y_resampled_smote)\n",
        "\n",
        "# Predict test set\n",
        "y_pred_smote = classifier_smote.predict(X_test)\n",
        "y_proba_smote = classifier_smote.predict_proba(X_test)[:, 1]\n",
        "\n",
        "# Print classification report for SMOTE data\n",
        "print(\"Classification Report (With SMOTE):\")\n",
        "print(classification_report(y_test, y_pred_smote))"
      ],
      "metadata": {
        "colab": {
          "base_uri": "https://localhost:8080/"
        },
        "id": "y4NkrlIYHN_m",
        "outputId": "13a51a34-849e-4811-b87b-deafce95b7f7"
      },
      "execution_count": 73,
      "outputs": [
        {
          "output_type": "stream",
          "name": "stdout",
          "text": [
            "Classification Report (With SMOTE):\n",
            "              precision    recall  f1-score   support\n",
            "\n",
            "           0       0.94      0.71      0.81      2839\n",
            "           1       0.07      0.35      0.12       181\n",
            "\n",
            "    accuracy                           0.69      3020\n",
            "   macro avg       0.51      0.53      0.46      3020\n",
            "weighted avg       0.89      0.69      0.77      3020\n",
            "\n"
          ]
        }
      ]
    },
    {
      "cell_type": "code",
      "source": [
        "confusion_matrix = confusion_matrix(y_test, y_pred_smote)\n",
        "cm_display = ConfusionMatrixDisplay(confusion_matrix = confusion_matrix, display_labels = [0, 1])\n",
        "\n",
        "cm_display.plot()\n",
        "plt.show()"
      ],
      "metadata": {
        "colab": {
          "base_uri": "https://localhost:8080/",
          "height": 452
        },
        "id": "0wiad-zKHXXE",
        "outputId": "c927b54e-d481-4f36-85ff-8fe90cb48931"
      },
      "execution_count": 74,
      "outputs": [
        {
          "output_type": "display_data",
          "data": {
            "text/plain": [
              "<Figure size 640x480 with 2 Axes>"
            ],
            "image/png": "[encoded data removed]"
          },
          "metadata": {}
        }
      ]
    },
    {
      "cell_type": "code",
      "source": [
        "print(accuracy_score(y_test, y_pred_smote))"
      ],
      "metadata": {
        "colab": {
          "base_uri": "https://localhost:8080/"
        },
        "id": "iuvmlodjIUnG",
        "outputId": "e73999f2-f9b4-4a55-a734-53b2b08d29e8"
      },
      "execution_count": 75,
      "outputs": [
        {
          "output_type": "stream",
          "name": "stdout",
          "text": [
            "0.68841059602649\n"
          ]
        }
      ]
    },
    {
      "cell_type": "code",
      "source": [
        "from imblearn.ensemble import BalancedRandomForestClassifier\n",
        "\n",
        "# Applying SMOTE\n",
        "classifier = BalancedRandomForestClassifier(random_state=42)\n",
        "classifier.fit(X_train, y_train)\n",
        "\n",
        "# Predict test set\n",
        "y_pred_brf = classifier.predict(X_test)\n",
        "y_proba_brf = classifier.predict_proba(X_test)[:, 1]\n",
        "\n",
        "# Print classification report for SMOTE data\n",
        "print(\"Classification Report (With SMOTE):\")\n",
        "print(classification_report(y_test, y_pred_brf))"
      ],
      "metadata": {
        "colab": {
          "base_uri": "https://localhost:8080/"
        },
        "id": "Se5CEjSNHk3B",
        "outputId": "9bd57ba8-d662-4b5d-ab67-724ccefb3ebb"
      },
      "execution_count": 76,
      "outputs": [
        {
          "output_type": "stream",
          "name": "stdout",
          "text": [
            "Classification Report (With SMOTE):\n",
            "              precision    recall  f1-score   support\n",
            "\n",
            "           0       0.99      0.65      0.78      2839\n",
            "           1       0.14      0.87      0.24       181\n",
            "\n",
            "    accuracy                           0.66      3020\n",
            "   macro avg       0.56      0.76      0.51      3020\n",
            "weighted avg       0.94      0.66      0.75      3020\n",
            "\n"
          ]
        }
      ]
    },
    {
      "cell_type": "code",
      "source": [
        "from sklearn.metrics import confusion_matrix\n",
        "confusion_matrix = confusion_matrix(y_test, y_pred_brf)\n",
        "cm_display = ConfusionMatrixDisplay(confusion_matrix = confusion_matrix, display_labels = [0, 1])\n",
        "\n",
        "cm_display.plot()\n",
        "plt.show()"
      ],
      "metadata": {
        "colab": {
          "base_uri": "https://localhost:8080/",
          "height": 449
        },
        "id": "FOOmfGe6Ik5h",
        "outputId": "031d5041-0f77-48f8-af5c-8878bc6485e8"
      },
      "execution_count": 77,
      "outputs": [
        {
          "output_type": "display_data",
          "data": {
            "text/plain": [
              "<Figure size 640x480 with 2 Axes>"
            ],
            "image/png": "[encoded data removed]"
          },
          "metadata": {}
        }
      ]
    },
    {
      "cell_type": "code",
      "source": [
        "print(accuracy_score(y_test, y_pred_brf))"
      ],
      "metadata": {
        "colab": {
          "base_uri": "https://localhost:8080/"
        },
        "id": "VjtFEFVpIwwo",
        "outputId": "0feff828-4568-45b5-f438-6dfa3c816fcb"
      },
      "execution_count": 78,
      "outputs": [
        {
          "output_type": "stream",
          "name": "stdout",
          "text": [
            "0.6642384105960265\n"
          ]
        }
      ]
    },
    {
      "cell_type": "code",
      "source": [
        "import xgboost as xgb\n"
      ],
      "metadata": {
        "id": "FyvZ4Gm8I7Uj"
      },
      "execution_count": 79,
      "outputs": []
    },
    {
      "cell_type": "code",
      "source": [
        "classifier_xgb = xgb.XGBClassifier(random_state=42)\n",
        "classifier_xgb.fit(X_resampled_smote, y_resampled_smote)\n"
      ],
      "metadata": {
        "id": "8VT5v3pMJKLM",
        "colab": {
          "base_uri": "https://localhost:8080/",
          "height": 248
        },
        "outputId": "a7c68bc0-ac2d-442e-b245-0b5bc3f80a44"
      },
      "execution_count": 80,
      "outputs": [
        {
          "output_type": "execute_result",
          "data": {
            "text/plain": [
              "XGBClassifier(base_score=None, booster=None, callbacks=None,\n",
              "              colsample_bylevel=None, colsample_bynode=None,\n",
              "              colsample_bytree=None, device=None, early_stopping_rounds=None,\n",
              "              enable_categorical=False, eval_metric=None, feature_types=None,\n",
              "              gamma=None, grow_policy=None, importance_type=None,\n",
              "              interaction_constraints=None, learning_rate=None, max_bin=None,\n",
              "              max_cat_threshold=None, max_cat_to_onehot=None,\n",
              "              max_delta_step=None, max_depth=None, max_leaves=None,\n",
              "              min_child_weight=None, missing=nan, monotone_constraints=None,\n",
              "              multi_strategy=None, n_estimators=None, n_jobs=None,\n",
              "              num_parallel_tree=None, random_state=42, ...)"
            ],
            "text/html": [
              "<style>#sk-container-id-6 {color: black;background-color: white;}#sk-container-id-6 pre{padding: 0;}#sk-container-id-6 div.sk-toggleable {background-color: white;}#sk-container-id-6 label.sk-toggleable__label {cursor: pointer;display: block;width: 100%;margin-bottom: 0;padding: 0.3em;box-sizing: border-box;text-align: center;}#sk-container-id-6 label.sk-toggleable__label-arrow:before {content: \"▸\";float: left;margin-right: 0.25em;color: #696969;}#sk-container-id-6 label.sk-toggleable__label-arrow:hover:before {color: black;}#sk-container-id-6 div.sk-estimator:hover label.sk-toggleable__label-arrow:before {color: black;}#sk-container-id-6 div.sk-toggleable__content {max-height: 0;max-width: 0;overflow: hidden;text-align: left;background-color: #f0f8ff;}#sk-container-id-6 div.sk-toggleable__content pre {margin: 0.2em;color: black;border-radius: 0.25em;background-color: #f0f8ff;}#sk-container-id-6 input.sk-toggleable__control:checked~div.sk-toggleable__content {max-height: 200px;max-width: 100%;overflow: auto;}#sk-container-id-6 input.sk-toggleable__control:checked~label.sk-toggleable__label-arrow:before {content: \"▾\";}#sk-container-id-6 div.sk-estimator input.sk-toggleable__control:checked~label.sk-toggleable__label {background-color: #d4ebff;}#sk-container-id-6 div.sk-label input.sk-toggleable__control:checked~label.sk-toggleable__label {background-color: #d4ebff;}#sk-container-id-6 input.sk-hidden--visually {border: 0;clip: rect(1px 1px 1px 1px);clip: rect(1px, 1px, 1px, 1px);height: 1px;margin: -1px;overflow: hidden;padding: 0;position: absolute;width: 1px;}#sk-container-id-6 div.sk-estimator {font-family: monospace;background-color: #f0f8ff;border: 1px dotted black;border-radius: 0.25em;box-sizing: border-box;margin-bottom: 0.5em;}#sk-container-id-6 div.sk-estimator:hover {background-color: #d4ebff;}#sk-container-id-6 div.sk-parallel-item::after {content: \"\";width: 100%;border-bottom: 1px solid gray;flex-grow: 1;}#sk-container-id-6 div.sk-label:hover label.sk-toggleable__label {background-color: #d4ebff;}#sk-container-id-6 div.sk-serial::before {content: \"\";position: absolute;border-left: 1px solid gray;box-sizing: border-box;top: 0;bottom: 0;left: 50%;z-index: 0;}#sk-container-id-6 div.sk-serial {display: flex;flex-direction: column;align-items: center;background-color: white;padding-right: 0.2em;padding-left: 0.2em;position: relative;}#sk-container-id-6 div.sk-item {position: relative;z-index: 1;}#sk-container-id-6 div.sk-parallel {display: flex;align-items: stretch;justify-content: center;background-color: white;position: relative;}#sk-container-id-6 div.sk-item::before, #sk-container-id-6 div.sk-parallel-item::before {content: \"\";position: absolute;border-left: 1px solid gray;box-sizing: border-box;top: 0;bottom: 0;left: 50%;z-index: -1;}#sk-container-id-6 div.sk-parallel-item {display: flex;flex-direction: column;z-index: 1;position: relative;background-color: white;}#sk-container-id-6 div.sk-parallel-item:first-child::after {align-self: flex-end;width: 50%;}#sk-container-id-6 div.sk-parallel-item:last-child::after {align-self: flex-start;width: 50%;}#sk-container-id-6 div.sk-parallel-item:only-child::after {width: 0;}#sk-container-id-6 div.sk-dashed-wrapped {border: 1px dashed gray;margin: 0 0.4em 0.5em 0.4em;box-sizing: border-box;padding-bottom: 0.4em;background-color: white;}#sk-container-id-6 div.sk-label label {font-family: monospace;font-weight: bold;display: inline-block;line-height: 1.2em;}#sk-container-id-6 div.sk-label-container {text-align: center;}#sk-container-id-6 div.sk-container {/* jupyter's `normalize.less` sets `[hidden] { display: none; }` but bootstrap.min.css set `[hidden] { display: none !important; }` so we also need the `!important` here to be able to override the default hidden behavior on the sphinx rendered scikit-learn.org. See: https://github.com/scikit-learn/scikit-learn/issues/21755 */display: inline-block !important;position: relative;}#sk-container-id-6 div.sk-text-repr-fallback {display: none;}</style><div id=\"sk-container-id-6\" class=\"sk-top-container\"><div class=\"sk-text-repr-fallback\"><pre>XGBClassifier(base_score=None, booster=None, callbacks=None,\n",
              "              colsample_bylevel=None, colsample_bynode=None,\n",
              "              colsample_bytree=None, device=None, early_stopping_rounds=None,\n",
              "              enable_categorical=False, eval_metric=None, feature_types=None,\n",
              "              gamma=None, grow_policy=None, importance_type=None,\n",
              "              interaction_constraints=None, learning_rate=None, max_bin=None,\n",
              "              max_cat_threshold=None, max_cat_to_onehot=None,\n",
              "              max_delta_step=None, max_depth=None, max_leaves=None,\n",
              "              min_child_weight=None, missing=nan, monotone_constraints=None,\n",
              "              multi_strategy=None, n_estimators=None, n_jobs=None,\n",
              "              num_parallel_tree=None, random_state=42, ...)</pre><b>In a Jupyter environment, please rerun this cell to show the HTML representation or trust the notebook. <br />On GitHub, the HTML representation is unable to render, please try loading this page with nbviewer.org.</b></div><div class=\"sk-container\" hidden><div class=\"sk-item\"><div class=\"sk-estimator sk-toggleable\"><input class=\"sk-toggleable__control sk-hidden--visually\" id=\"sk-estimator-id-6\" type=\"checkbox\" checked><label for=\"sk-estimator-id-6\" class=\"sk-toggleable__label sk-toggleable__label-arrow\">XGBClassifier</label><div class=\"sk-toggleable__content\"><pre>XGBClassifier(base_score=None, booster=None, callbacks=None,\n",
              "              colsample_bylevel=None, colsample_bynode=None,\n",
              "              colsample_bytree=None, device=None, early_stopping_rounds=None,\n",
              "              enable_categorical=False, eval_metric=None, feature_types=None,\n",
              "              gamma=None, grow_policy=None, importance_type=None,\n",
              "              interaction_constraints=None, learning_rate=None, max_bin=None,\n",
              "              max_cat_threshold=None, max_cat_to_onehot=None,\n",
              "              max_delta_step=None, max_depth=None, max_leaves=None,\n",
              "              min_child_weight=None, missing=nan, monotone_constraints=None,\n",
              "              multi_strategy=None, n_estimators=None, n_jobs=None,\n",
              "              num_parallel_tree=None, random_state=42, ...)</pre></div></div></div></div></div>"
            ]
          },
          "metadata": {},
          "execution_count": 80
        }
      ]
    },
    {
      "cell_type": "code",
      "source": [
        "classifier_xgb = xgb.XGBClassifier(random_state=42)\n",
        "classifier_xgb.fit(X_resampled_smote, y_resampled_smote)"
      ],
      "metadata": {
        "colab": {
          "base_uri": "https://localhost:8080/",
          "height": 248
        },
        "id": "iSllOCpEJape",
        "outputId": "13796b05-86b7-428a-ad4c-2d6a1690cbd5"
      },
      "execution_count": 81,
      "outputs": [
        {
          "output_type": "execute_result",
          "data": {
            "text/plain": [
              "XGBClassifier(base_score=None, booster=None, callbacks=None,\n",
              "              colsample_bylevel=None, colsample_bynode=None,\n",
              "              colsample_bytree=None, device=None, early_stopping_rounds=None,\n",
              "              enable_categorical=False, eval_metric=None, feature_types=None,\n",
              "              gamma=None, grow_policy=None, importance_type=None,\n",
              "              interaction_constraints=None, learning_rate=None, max_bin=None,\n",
              "              max_cat_threshold=None, max_cat_to_onehot=None,\n",
              "              max_delta_step=None, max_depth=None, max_leaves=None,\n",
              "              min_child_weight=None, missing=nan, monotone_constraints=None,\n",
              "              multi_strategy=None, n_estimators=None, n_jobs=None,\n",
              "              num_parallel_tree=None, random_state=42, ...)"
            ],
            "text/html": [
              "<style>#sk-container-id-7 {color: black;background-color: white;}#sk-container-id-7 pre{padding: 0;}#sk-container-id-7 div.sk-toggleable {background-color: white;}#sk-container-id-7 label.sk-toggleable__label {cursor: pointer;display: block;width: 100%;margin-bottom: 0;padding: 0.3em;box-sizing: border-box;text-align: center;}#sk-container-id-7 label.sk-toggleable__label-arrow:before {content: \"▸\";float: left;margin-right: 0.25em;color: #696969;}#sk-container-id-7 label.sk-toggleable__label-arrow:hover:before {color: black;}#sk-container-id-7 div.sk-estimator:hover label.sk-toggleable__label-arrow:before {color: black;}#sk-container-id-7 div.sk-toggleable__content {max-height: 0;max-width: 0;overflow: hidden;text-align: left;background-color: #f0f8ff;}#sk-container-id-7 div.sk-toggleable__content pre {margin: 0.2em;color: black;border-radius: 0.25em;background-color: #f0f8ff;}#sk-container-id-7 input.sk-toggleable__control:checked~div.sk-toggleable__content {max-height: 200px;max-width: 100%;overflow: auto;}#sk-container-id-7 input.sk-toggleable__control:checked~label.sk-toggleable__label-arrow:before {content: \"▾\";}#sk-container-id-7 div.sk-estimator input.sk-toggleable__control:checked~label.sk-toggleable__label {background-color: #d4ebff;}#sk-container-id-7 div.sk-label input.sk-toggleable__control:checked~label.sk-toggleable__label {background-color: #d4ebff;}#sk-container-id-7 input.sk-hidden--visually {border: 0;clip: rect(1px 1px 1px 1px);clip: rect(1px, 1px, 1px, 1px);height: 1px;margin: -1px;overflow: hidden;padding: 0;position: absolute;width: 1px;}#sk-container-id-7 div.sk-estimator {font-family: monospace;background-color: #f0f8ff;border: 1px dotted black;border-radius: 0.25em;box-sizing: border-box;margin-bottom: 0.5em;}#sk-container-id-7 div.sk-estimator:hover {background-color: #d4ebff;}#sk-container-id-7 div.sk-parallel-item::after {content: \"\";width: 100%;border-bottom: 1px solid gray;flex-grow: 1;}#sk-container-id-7 div.sk-label:hover label.sk-toggleable__label {background-color: #d4ebff;}#sk-container-id-7 div.sk-serial::before {content: \"\";position: absolute;border-left: 1px solid gray;box-sizing: border-box;top: 0;bottom: 0;left: 50%;z-index: 0;}#sk-container-id-7 div.sk-serial {display: flex;flex-direction: column;align-items: center;background-color: white;padding-right: 0.2em;padding-left: 0.2em;position: relative;}#sk-container-id-7 div.sk-item {position: relative;z-index: 1;}#sk-container-id-7 div.sk-parallel {display: flex;align-items: stretch;justify-content: center;background-color: white;position: relative;}#sk-container-id-7 div.sk-item::before, #sk-container-id-7 div.sk-parallel-item::before {content: \"\";position: absolute;border-left: 1px solid gray;box-sizing: border-box;top: 0;bottom: 0;left: 50%;z-index: -1;}#sk-container-id-7 div.sk-parallel-item {display: flex;flex-direction: column;z-index: 1;position: relative;background-color: white;}#sk-container-id-7 div.sk-parallel-item:first-child::after {align-self: flex-end;width: 50%;}#sk-container-id-7 div.sk-parallel-item:last-child::after {align-self: flex-start;width: 50%;}#sk-container-id-7 div.sk-parallel-item:only-child::after {width: 0;}#sk-container-id-7 div.sk-dashed-wrapped {border: 1px dashed gray;margin: 0 0.4em 0.5em 0.4em;box-sizing: border-box;padding-bottom: 0.4em;background-color: white;}#sk-container-id-7 div.sk-label label {font-family: monospace;font-weight: bold;display: inline-block;line-height: 1.2em;}#sk-container-id-7 div.sk-label-container {text-align: center;}#sk-container-id-7 div.sk-container {/* jupyter's `normalize.less` sets `[hidden] { display: none; }` but bootstrap.min.css set `[hidden] { display: none !important; }` so we also need the `!important` here to be able to override the default hidden behavior on the sphinx rendered scikit-learn.org. See: https://github.com/scikit-learn/scikit-learn/issues/21755 */display: inline-block !important;position: relative;}#sk-container-id-7 div.sk-text-repr-fallback {display: none;}</style><div id=\"sk-container-id-7\" class=\"sk-top-container\"><div class=\"sk-text-repr-fallback\"><pre>XGBClassifier(base_score=None, booster=None, callbacks=None,\n",
              "              colsample_bylevel=None, colsample_bynode=None,\n",
              "              colsample_bytree=None, device=None, early_stopping_rounds=None,\n",
              "              enable_categorical=False, eval_metric=None, feature_types=None,\n",
              "              gamma=None, grow_policy=None, importance_type=None,\n",
              "              interaction_constraints=None, learning_rate=None, max_bin=None,\n",
              "              max_cat_threshold=None, max_cat_to_onehot=None,\n",
              "              max_delta_step=None, max_depth=None, max_leaves=None,\n",
              "              min_child_weight=None, missing=nan, monotone_constraints=None,\n",
              "              multi_strategy=None, n_estimators=None, n_jobs=None,\n",
              "              num_parallel_tree=None, random_state=42, ...)</pre><b>In a Jupyter environment, please rerun this cell to show the HTML representation or trust the notebook. <br />On GitHub, the HTML representation is unable to render, please try loading this page with nbviewer.org.</b></div><div class=\"sk-container\" hidden><div class=\"sk-item\"><div class=\"sk-estimator sk-toggleable\"><input class=\"sk-toggleable__control sk-hidden--visually\" id=\"sk-estimator-id-7\" type=\"checkbox\" checked><label for=\"sk-estimator-id-7\" class=\"sk-toggleable__label sk-toggleable__label-arrow\">XGBClassifier</label><div class=\"sk-toggleable__content\"><pre>XGBClassifier(base_score=None, booster=None, callbacks=None,\n",
              "              colsample_bylevel=None, colsample_bynode=None,\n",
              "              colsample_bytree=None, device=None, early_stopping_rounds=None,\n",
              "              enable_categorical=False, eval_metric=None, feature_types=None,\n",
              "              gamma=None, grow_policy=None, importance_type=None,\n",
              "              interaction_constraints=None, learning_rate=None, max_bin=None,\n",
              "              max_cat_threshold=None, max_cat_to_onehot=None,\n",
              "              max_delta_step=None, max_depth=None, max_leaves=None,\n",
              "              min_child_weight=None, missing=nan, monotone_constraints=None,\n",
              "              multi_strategy=None, n_estimators=None, n_jobs=None,\n",
              "              num_parallel_tree=None, random_state=42, ...)</pre></div></div></div></div></div>"
            ]
          },
          "metadata": {},
          "execution_count": 81
        }
      ]
    },
    {
      "cell_type": "code",
      "source": [
        "from sklearn.metrics import confusion_matrix, ConfusionMatrixDisplay\n",
        "\n",
        "y_pred_xgb = classifier_xgb.predict(X_test)\n",
        "\n",
        "# Use the imported confusion_matrix function\n",
        "confusion_matrix_result = confusion_matrix(y_test, y_pred_xgb)\n",
        "cm_display = ConfusionMatrixDisplay(confusion_matrix = confusion_matrix_result, display_labels = [0, 1])\n",
        "\n",
        "cm_display.plot()\n",
        "plt.show()"
      ],
      "metadata": {
        "colab": {
          "base_uri": "https://localhost:8080/",
          "height": 449
        },
        "id": "UqHUhR4EJcsO",
        "outputId": "9d122496-b44c-42c3-bf45-bdbcf7447edb"
      },
      "execution_count": 82,
      "outputs": [
        {
          "output_type": "display_data",
          "data": {
            "text/plain": [
              "<Figure size 640x480 with 2 Axes>"
            ],
            "image/png": "[encoded data removed]"
          },
          "metadata": {}
        }
      ]
    },
    {
      "cell_type": "code",
      "source": [
        "print(accuracy_score(y_test, y_pred_xgb))"
      ],
      "metadata": {
        "colab": {
          "base_uri": "https://localhost:8080/"
        },
        "id": "4vf8xMz1Jt_5",
        "outputId": "8f8312c6-5760-499f-ee1d-d686c81856e4"
      },
      "execution_count": 83,
      "outputs": [
        {
          "output_type": "stream",
          "name": "stdout",
          "text": [
            "0.8890728476821192\n"
          ]
        }
      ]
    },
    {
      "cell_type": "code",
      "source": [
        "# xgb1 = xgb.XGBClassifier(\n",
        "#  learning_rate =0.1,\n",
        "#  n_estimators=1000,\n",
        "#  max_depth=5,\n",
        "#  min_child_weight=1,\n",
        "#  gamma=0,\n",
        "#  subsample=0.8,\n",
        "#  colsample_bytree=0.8,\n",
        "#  objective= 'binary:logistic',\n",
        "#  nthread=4,\n",
        "#  scale_pos_weight=1,\n",
        "#  seed=27)"
      ],
      "metadata": {
        "id": "riWrLFecKW9Z"
      },
      "execution_count": 84,
      "outputs": []
    },
    {
      "cell_type": "code",
      "source": [
        "# xgb1.fit(X_resampled_smote, y_resampled_smote)"
      ],
      "metadata": {
        "id": "H-p8C7KRLmlT"
      },
      "execution_count": 85,
      "outputs": []
    },
    {
      "cell_type": "code",
      "source": [
        "# from sklearn.metrics import confusion_matrix, ConfusionMatrixDisplay\n",
        "\n",
        "# y_pred_xgb1 = xgb1.predict(X_test)\n",
        "\n",
        "# # Use the imported confusion_matrix function\n",
        "# confusion_matrix_result = confusion_matrix(y_test, y_pred_xgb1)\n",
        "# cm_display = ConfusionMatrixDisplay(confusion_matrix = confusion_matrix_result, display_labels = [0, 1])\n",
        "\n",
        "# cm_display.plot()\n",
        "# plt.show()"
      ],
      "metadata": {
        "id": "d73Y_Yt6Lw4M"
      },
      "execution_count": 86,
      "outputs": []
    },
    {
      "cell_type": "code",
      "source": [
        "# print(accuracy_score(y_test, y_pred_xgb1))"
      ],
      "metadata": {
        "id": "nR7EeySoL0Qt"
      },
      "execution_count": 87,
      "outputs": []
    },
    {
      "cell_type": "code",
      "source": [
        "# clearly accuracy have improved with some value"
      ],
      "metadata": {
        "id": "FcXjgT9eMIst"
      },
      "execution_count": 88,
      "outputs": []
    },
    {
      "cell_type": "code",
      "source": [
        "# from xgboost import plot_importance\n",
        "# plot_importance(xgb1)\n",
        "\n",
        "# # Customize the plot (optional)\n",
        "# plt.title('Feature Importance')\n",
        "# plt.xlabel('F Score')\n",
        "# plt.ylabel('Features')\n",
        "# plt.show()"
      ],
      "metadata": {
        "id": "wsSkGAfUMXU1"
      },
      "execution_count": 89,
      "outputs": []
    },
    {
      "cell_type": "markdown",
      "source": [
        "# Hyperparameter Tuning"
      ],
      "metadata": {
        "id": "tyXRsZWrPaMq"
      }
    },
    {
      "cell_type": "code",
      "source": [
        "dtrain = xgb.DMatrix(X_resampled_smote,y_resampled_smote)\n",
        "dtest  = xgb.DMatrix(X_test,y_test)"
      ],
      "metadata": {
        "id": "2TKdiI7FPe-6"
      },
      "execution_count": 90,
      "outputs": []
    },
    {
      "cell_type": "code",
      "source": [
        "from sklearn.model_selection import KFold\n",
        "from sklearn.model_selection import cross_val_score\n",
        "from sklearn.model_selection import ShuffleSplit\n",
        "cv_ = KFold(n_splits=10)\n",
        "\n",
        "xg_reg = xgb.XGBClassifier()\n",
        "scores = cross_val_score(xg_reg, X_resampled_smote,y_resampled_smote , scoring = 'accuracy',n_jobs = -1,cv = cv_)\n",
        "print(np.mean(scores), np.std(scores))\n",
        "print(scores)"
      ],
      "metadata": {
        "colab": {
          "base_uri": "https://localhost:8080/"
        },
        "id": "6KldqVgGP6H9",
        "outputId": "45732ec8-1bb5-4b88-bc2b-1c42bb118dd6"
      },
      "execution_count": 91,
      "outputs": [
        {
          "output_type": "stream",
          "name": "stdout",
          "text": [
            "0.9446342498706664 0.04331190402007486\n",
            "[0.90457344 0.8935796  0.89753738 0.91116974 0.90325418 0.96921724\n",
            " 0.99252419 0.99164468 0.98900132 0.99384074]\n"
          ]
        }
      ]
    },
    {
      "cell_type": "code",
      "source": [
        "# pip install optuna"
      ],
      "metadata": {
        "colab": {
          "base_uri": "https://localhost:8080/"
        },
        "id": "sGmER-D7SBl7",
        "outputId": "42c7ebd5-9c3a-4504-d2e6-6fc0147c80b2"
      },
      "execution_count": 92,
      "outputs": [
        {
          "output_type": "stream",
          "name": "stdout",
          "text": [
            "Requirement already satisfied: optuna in /usr/local/lib/python3.10/dist-packages (3.6.1)\n",
            "Requirement already satisfied: alembic>=1.5.0 in /usr/local/lib/python3.10/dist-packages (from optuna) (1.13.2)\n",
            "Requirement already satisfied: colorlog in /usr/local/lib/python3.10/dist-packages (from optuna) (6.8.2)\n",
            "Requirement already satisfied: numpy in /usr/local/lib/python3.10/dist-packages (from optuna) (1.25.2)\n",
            "Requirement already satisfied: packaging>=20.0 in /usr/local/lib/python3.10/dist-packages (from optuna) (24.1)\n",
            "Requirement already satisfied: sqlalchemy>=1.3.0 in /usr/local/lib/python3.10/dist-packages (from optuna) (2.0.31)\n",
            "Requirement already satisfied: tqdm in /usr/local/lib/python3.10/dist-packages (from optuna) (4.66.4)\n",
            "Requirement already satisfied: PyYAML in /usr/local/lib/python3.10/dist-packages (from optuna) (6.0.1)\n",
            "Requirement already satisfied: Mako in /usr/local/lib/python3.10/dist-packages (from alembic>=1.5.0->optuna) (1.3.5)\n",
            "Requirement already satisfied: typing-extensions>=4 in /usr/local/lib/python3.10/dist-packages (from alembic>=1.5.0->optuna) (4.12.2)\n",
            "Requirement already satisfied: greenlet!=0.4.17 in /usr/local/lib/python3.10/dist-packages (from sqlalchemy>=1.3.0->optuna) (3.0.3)\n",
            "Requirement already satisfied: MarkupSafe>=0.9.2 in /usr/local/lib/python3.10/dist-packages (from Mako->alembic>=1.5.0->optuna) (2.1.5)\n"
          ]
        }
      ]
    },
    {
      "cell_type": "code",
      "source": [
        "from sklearn.pipeline import Pipeline"
      ],
      "metadata": {
        "id": "GFlH3JA8VaJ9"
      },
      "execution_count": 93,
      "outputs": []
    },
    {
      "cell_type": "code",
      "source": [
        "import optuna"
      ],
      "metadata": {
        "id": "BWP19pmpV91d"
      },
      "execution_count": 94,
      "outputs": []
    },
    {
      "cell_type": "code",
      "source": [
        "def objective_xgb(trial):\n",
        "    xgb_params = {\n",
        "        'learning_rate': 0.03,\n",
        "        'booster': 'gbtree',\n",
        "        'eval_metric' : 'logloss',\n",
        "        'objective' : 'binary:hinge',\n",
        "        'n_estimators': trial.suggest_int('n_estimators', 700, 1000, 5),\n",
        "        'reg_lambda': trial.suggest_float('reg_lambda', 0, 2.0),\n",
        "        'reg_alpha': trial.suggest_float('reg_alpha', 2.0, 6.0),\n",
        "        'subsample': trial.suggest_float('subsample', 0.3, 0.9, step=0.1),\n",
        "        'colsample_bytree': trial.suggest_float('colsample_bytree', 0.8, 1.0, step=0.1),\n",
        "        'max_depth': trial.suggest_int('max_depth', 7, 10),\n",
        "        'min_child_weight': trial.suggest_int('min_child_weight', 5, 10),\n",
        "        'gamma': trial.suggest_float('gamma', 0.13, 0.3)\n",
        "    }\n",
        "\n",
        "    pipe = Pipeline(steps = [\n",
        "    ('step2' , xgb.XGBClassifier(**xgb_params))\n",
        "     ])\n",
        "\n",
        "    pipe.fit(X_resampled_smote,y_resampled_smote)\n",
        "    y_pred = pipe.predict(X_test)\n",
        "    return accuracy_score(y_test,y_pred)"
      ],
      "metadata": {
        "id": "lfiB7kbuV_qn"
      },
      "execution_count": 135,
      "outputs": []
    },
    {
      "cell_type": "code",
      "source": [
        "study_xgb= optuna.create_study(direction = 'maximize')\n",
        "study_xgb.optimize(objective_xgb, n_trials=50)"
      ],
      "metadata": {
        "colab": {
          "base_uri": "https://localhost:8080/"
        },
        "id": "DAmRrC9XYMO4",
        "outputId": "c14759a4-c60e-4aff-952f-ff2aa7ef63f4"
      },
      "execution_count": 136,
      "outputs": [
        {
          "output_type": "stream",
          "name": "stderr",
          "text": [
            "[I 2024-07-03 08:43:17,669] A new study created in memory with name: no-name-9c50511e-9e76-4956-9184-7f12fd72c919\n",
            "[I 2024-07-03 08:43:24,041] Trial 0 finished with value: 0.9125827814569536 and parameters: {'n_estimators': 750, 'reg_lambda': 0.6183400738708933, 'reg_alpha': 3.947798374445744, 'subsample': 0.9, 'colsample_bytree': 0.9, 'max_depth': 9, 'min_child_weight': 9, 'gamma': 0.2530720996138044}. Best is trial 0 with value: 0.9125827814569536.\n",
            "[I 2024-07-03 08:43:27,412] Trial 1 finished with value: 0.8947019867549669 and parameters: {'n_estimators': 865, 'reg_lambda': 0.4007361807652956, 'reg_alpha': 3.985386384872591, 'subsample': 0.3, 'colsample_bytree': 1.0, 'max_depth': 7, 'min_child_weight': 9, 'gamma': 0.2668505272594852}. Best is trial 0 with value: 0.9125827814569536.\n",
            "[I 2024-07-03 08:43:30,446] Trial 2 finished with value: 0.8966887417218543 and parameters: {'n_estimators': 755, 'reg_lambda': 1.6562289724181671, 'reg_alpha': 4.124418883645227, 'subsample': 0.7, 'colsample_bytree': 0.9, 'max_depth': 7, 'min_child_weight': 10, 'gamma': 0.16762789921650825}. Best is trial 0 with value: 0.9125827814569536.\n",
            "[I 2024-07-03 08:43:36,514] Trial 3 finished with value: 0.9122516556291391 and parameters: {'n_estimators': 700, 'reg_lambda': 0.06042181704892746, 'reg_alpha': 3.727737012245797, 'subsample': 0.9, 'colsample_bytree': 1.0, 'max_depth': 10, 'min_child_weight': 7, 'gamma': 0.2707110681899906}. Best is trial 0 with value: 0.9125827814569536.\n",
            "[I 2024-07-03 08:43:40,230] Trial 4 finished with value: 0.9079470198675497 and parameters: {'n_estimators': 875, 'reg_lambda': 1.0815825845816338, 'reg_alpha': 5.3401047553716126, 'subsample': 0.5, 'colsample_bytree': 0.9, 'max_depth': 8, 'min_child_weight': 9, 'gamma': 0.1439704944432293}. Best is trial 0 with value: 0.9125827814569536.\n",
            "[I 2024-07-03 08:43:43,127] Trial 5 finished with value: 0.8966887417218543 and parameters: {'n_estimators': 730, 'reg_lambda': 1.3687012159441576, 'reg_alpha': 3.4136448041884524, 'subsample': 0.6000000000000001, 'colsample_bytree': 0.9, 'max_depth': 7, 'min_child_weight': 7, 'gamma': 0.2796597222278739}. Best is trial 0 with value: 0.9125827814569536.\n",
            "[I 2024-07-03 08:43:50,197] Trial 6 finished with value: 0.9026490066225166 and parameters: {'n_estimators': 995, 'reg_lambda': 0.48111255832683386, 'reg_alpha': 3.974805801140541, 'subsample': 0.3, 'colsample_bytree': 0.9, 'max_depth': 7, 'min_child_weight': 8, 'gamma': 0.24075457189354524}. Best is trial 0 with value: 0.9125827814569536.\n",
            "[I 2024-07-03 08:43:54,557] Trial 7 finished with value: 0.9059602649006623 and parameters: {'n_estimators': 1000, 'reg_lambda': 1.27849288900354, 'reg_alpha': 4.225217056704379, 'subsample': 0.3, 'colsample_bytree': 0.8, 'max_depth': 9, 'min_child_weight': 8, 'gamma': 0.271177880668414}. Best is trial 0 with value: 0.9125827814569536.\n",
            "[I 2024-07-03 08:44:00,977] Trial 8 finished with value: 0.9096026490066225 and parameters: {'n_estimators': 975, 'reg_lambda': 0.26370181146325233, 'reg_alpha': 3.213855863318239, 'subsample': 0.8, 'colsample_bytree': 0.9, 'max_depth': 7, 'min_child_weight': 5, 'gamma': 0.22965399911366563}. Best is trial 0 with value: 0.9125827814569536.\n",
            "[I 2024-07-03 08:44:04,606] Trial 9 finished with value: 0.9149006622516557 and parameters: {'n_estimators': 745, 'reg_lambda': 0.5205739491364443, 'reg_alpha': 3.135516208902791, 'subsample': 0.7, 'colsample_bytree': 1.0, 'max_depth': 9, 'min_child_weight': 5, 'gamma': 0.19486987650603493}. Best is trial 9 with value: 0.9149006622516557.\n",
            "[I 2024-07-03 08:44:08,599] Trial 10 finished with value: 0.9132450331125828 and parameters: {'n_estimators': 805, 'reg_lambda': 0.786688978639362, 'reg_alpha': 2.3623958725540106, 'subsample': 0.5, 'colsample_bytree': 1.0, 'max_depth': 10, 'min_child_weight': 5, 'gamma': 0.18964849357625732}. Best is trial 9 with value: 0.9149006622516557.\n",
            "[I 2024-07-03 08:44:16,606] Trial 11 finished with value: 0.9105960264900662 and parameters: {'n_estimators': 805, 'reg_lambda': 0.8416429763813154, 'reg_alpha': 2.1064271574839406, 'subsample': 0.5, 'colsample_bytree': 1.0, 'max_depth': 10, 'min_child_weight': 5, 'gamma': 0.19289411465992928}. Best is trial 9 with value: 0.9149006622516557.\n",
            "[I 2024-07-03 08:44:20,459] Trial 12 finished with value: 0.9089403973509934 and parameters: {'n_estimators': 815, 'reg_lambda': 0.8735216047513783, 'reg_alpha': 2.263164675053939, 'subsample': 0.5, 'colsample_bytree': 1.0, 'max_depth': 9, 'min_child_weight': 6, 'gamma': 0.20087675777241204}. Best is trial 9 with value: 0.9149006622516557.\n",
            "[I 2024-07-03 08:44:26,908] Trial 13 finished with value: 0.9112582781456954 and parameters: {'n_estimators': 790, 'reg_lambda': 1.9554997441454862, 'reg_alpha': 2.8002497819202614, 'subsample': 0.7, 'colsample_bytree': 1.0, 'max_depth': 10, 'min_child_weight': 6, 'gamma': 0.1817888614797453}. Best is trial 9 with value: 0.9149006622516557.\n",
            "[I 2024-07-03 08:44:30,961] Trial 14 finished with value: 0.9129139072847682 and parameters: {'n_estimators': 910, 'reg_lambda': 0.7134808820362064, 'reg_alpha': 2.6641479803060464, 'subsample': 0.6000000000000001, 'colsample_bytree': 0.8, 'max_depth': 8, 'min_child_weight': 5, 'gamma': 0.16196792452832745}. Best is trial 9 with value: 0.9149006622516557.\n",
            "[I 2024-07-03 08:44:34,875] Trial 15 finished with value: 0.9069536423841059 and parameters: {'n_estimators': 785, 'reg_lambda': 1.077011051679274, 'reg_alpha': 4.7420886130599325, 'subsample': 0.4, 'colsample_bytree': 1.0, 'max_depth': 10, 'min_child_weight': 6, 'gamma': 0.21819425264927242}. Best is trial 9 with value: 0.9149006622516557.\n",
            "[I 2024-07-03 08:44:41,245] Trial 16 finished with value: 0.9132450331125828 and parameters: {'n_estimators': 830, 'reg_lambda': 0.2552215061164522, 'reg_alpha': 2.9105728126285055, 'subsample': 0.7, 'colsample_bytree': 1.0, 'max_depth': 9, 'min_child_weight': 6, 'gamma': 0.14027337709037252}. Best is trial 9 with value: 0.9149006622516557.\n",
            "[I 2024-07-03 08:44:44,368] Trial 17 finished with value: 0.9129139072847682 and parameters: {'n_estimators': 700, 'reg_lambda': 0.08341048610163915, 'reg_alpha': 2.3446508642854087, 'subsample': 0.8, 'colsample_bytree': 1.0, 'max_depth': 8, 'min_child_weight': 5, 'gamma': 0.20038070242921058}. Best is trial 9 with value: 0.9149006622516557.\n",
            "[I 2024-07-03 08:44:48,575] Trial 18 finished with value: 0.9122516556291391 and parameters: {'n_estimators': 905, 'reg_lambda': 0.5834176624511244, 'reg_alpha': 3.2488184959989868, 'subsample': 0.4, 'colsample_bytree': 0.8, 'max_depth': 10, 'min_child_weight': 7, 'gamma': 0.2969911942567761}. Best is trial 9 with value: 0.9149006622516557.\n",
            "[I 2024-07-03 08:44:54,791] Trial 19 finished with value: 0.9105960264900662 and parameters: {'n_estimators': 770, 'reg_lambda': 1.326085846888545, 'reg_alpha': 5.695602379747973, 'subsample': 0.6000000000000001, 'colsample_bytree': 1.0, 'max_depth': 9, 'min_child_weight': 5, 'gamma': 0.17456628446122635}. Best is trial 9 with value: 0.9149006622516557.\n",
            "[I 2024-07-03 08:44:59,613] Trial 20 finished with value: 0.91158940397351 and parameters: {'n_estimators': 840, 'reg_lambda': 0.8029416417160883, 'reg_alpha': 2.502457439949793, 'subsample': 0.8, 'colsample_bytree': 0.9, 'max_depth': 10, 'min_child_weight': 6, 'gamma': 0.2151526812001748}. Best is trial 9 with value: 0.9149006622516557.\n",
            "[I 2024-07-03 08:45:06,132] Trial 21 finished with value: 0.9129139072847682 and parameters: {'n_estimators': 820, 'reg_lambda': 0.28764697757952656, 'reg_alpha': 2.8913046423640436, 'subsample': 0.7, 'colsample_bytree': 1.0, 'max_depth': 9, 'min_child_weight': 6, 'gamma': 0.13053729869883185}. Best is trial 9 with value: 0.9149006622516557.\n",
            "[I 2024-07-03 08:45:10,095] Trial 22 finished with value: 0.9139072847682119 and parameters: {'n_estimators': 835, 'reg_lambda': 0.25795246241101005, 'reg_alpha': 3.006112851360344, 'subsample': 0.7, 'colsample_bytree': 1.0, 'max_depth': 9, 'min_child_weight': 5, 'gamma': 0.15269843885027293}. Best is trial 9 with value: 0.9149006622516557.\n",
            "[I 2024-07-03 08:45:13,351] Trial 23 finished with value: 0.9089403973509934 and parameters: {'n_estimators': 730, 'reg_lambda': 0.44547935230012875, 'reg_alpha': 2.046194413127945, 'subsample': 0.5, 'colsample_bytree': 1.0, 'max_depth': 8, 'min_child_weight': 5, 'gamma': 0.1613396623002583}. Best is trial 9 with value: 0.9149006622516557.\n",
            "[I 2024-07-03 08:45:19,806] Trial 24 finished with value: 0.9089403973509934 and parameters: {'n_estimators': 860, 'reg_lambda': 0.610153816334909, 'reg_alpha': 3.446508065815518, 'subsample': 0.6000000000000001, 'colsample_bytree': 1.0, 'max_depth': 9, 'min_child_weight': 5, 'gamma': 0.19002603875918667}. Best is trial 9 with value: 0.9149006622516557.\n",
            "[I 2024-07-03 08:45:26,217] Trial 25 finished with value: 0.9132450331125828 and parameters: {'n_estimators': 890, 'reg_lambda': 0.946587447617501, 'reg_alpha': 3.0493346417868143, 'subsample': 0.8, 'colsample_bytree': 1.0, 'max_depth': 9, 'min_child_weight': 5, 'gamma': 0.15121367529898966}. Best is trial 9 with value: 0.9149006622516557.\n",
            "[I 2024-07-03 08:45:32,469] Trial 26 finished with value: 0.9119205298013245 and parameters: {'n_estimators': 785, 'reg_lambda': 0.1463901726804912, 'reg_alpha': 2.5456572063030642, 'subsample': 0.4, 'colsample_bytree': 1.0, 'max_depth': 10, 'min_child_weight': 6, 'gamma': 0.1822413975577067}. Best is trial 9 with value: 0.9149006622516557.\n",
            "[I 2024-07-03 08:45:36,645] Trial 27 finished with value: 0.909271523178808 and parameters: {'n_estimators': 935, 'reg_lambda': 0.37307460337684273, 'reg_alpha': 4.583208458809641, 'subsample': 0.7, 'colsample_bytree': 1.0, 'max_depth': 8, 'min_child_weight': 7, 'gamma': 0.2037792026463222}. Best is trial 9 with value: 0.9149006622516557.\n",
            "[I 2024-07-03 08:45:42,953] Trial 28 finished with value: 0.9142384105960265 and parameters: {'n_estimators': 845, 'reg_lambda': 0.7496409507981172, 'reg_alpha': 3.6343413686644626, 'subsample': 0.6000000000000001, 'colsample_bytree': 0.9, 'max_depth': 9, 'min_child_weight': 5, 'gamma': 0.2297648580242716}. Best is trial 9 with value: 0.9149006622516557.\n",
            "[I 2024-07-03 08:45:46,822] Trial 29 finished with value: 0.9129139072847682 and parameters: {'n_estimators': 845, 'reg_lambda': 0.587245795911784, 'reg_alpha': 3.6688924909444123, 'subsample': 0.9, 'colsample_bytree': 0.9, 'max_depth': 9, 'min_child_weight': 10, 'gamma': 0.24389402495240167}. Best is trial 9 with value: 0.9149006622516557.\n",
            "[I 2024-07-03 08:45:51,257] Trial 30 finished with value: 0.9105960264900662 and parameters: {'n_estimators': 945, 'reg_lambda': 0.5191989343339681, 'reg_alpha': 4.334984418005971, 'subsample': 0.7, 'colsample_bytree': 0.9, 'max_depth': 9, 'min_child_weight': 8, 'gamma': 0.22413460668890536}. Best is trial 9 with value: 0.9149006622516557.\n",
            "[I 2024-07-03 08:45:57,371] Trial 31 finished with value: 0.9135761589403973 and parameters: {'n_estimators': 805, 'reg_lambda': 0.6866824415717149, 'reg_alpha': 3.640294865343151, 'subsample': 0.6000000000000001, 'colsample_bytree': 0.9, 'max_depth': 9, 'min_child_weight': 5, 'gamma': 0.21045637298969544}. Best is trial 9 with value: 0.9149006622516557.\n",
            "[I 2024-07-03 08:46:01,130] Trial 32 finished with value: 0.9132450331125828 and parameters: {'n_estimators': 745, 'reg_lambda': 0.6921754208670766, 'reg_alpha': 3.6727221556649976, 'subsample': 0.6000000000000001, 'colsample_bytree': 0.9, 'max_depth': 9, 'min_child_weight': 5, 'gamma': 0.23443932519348912}. Best is trial 9 with value: 0.9149006622516557.\n",
            "[I 2024-07-03 08:46:07,571] Trial 33 finished with value: 0.9132450331125828 and parameters: {'n_estimators': 870, 'reg_lambda': 0.3762845448863987, 'reg_alpha': 3.4460029623707453, 'subsample': 0.7, 'colsample_bytree': 0.9, 'max_depth': 9, 'min_child_weight': 6, 'gamma': 0.25576744132004386}. Best is trial 9 with value: 0.9149006622516557.\n",
            "[I 2024-07-03 08:46:11,247] Trial 34 finished with value: 0.9096026490066225 and parameters: {'n_estimators': 755, 'reg_lambda': 0.18896747982543105, 'reg_alpha': 3.7780218678744095, 'subsample': 0.6000000000000001, 'colsample_bytree': 0.9, 'max_depth': 9, 'min_child_weight': 5, 'gamma': 0.20934445376369282}. Best is trial 9 with value: 0.9149006622516557.\n",
            "[I 2024-07-03 08:46:14,945] Trial 35 finished with value: 0.91158940397351 and parameters: {'n_estimators': 850, 'reg_lambda': 0.997241513084492, 'reg_alpha': 3.050386068319904, 'subsample': 0.7, 'colsample_bytree': 0.8, 'max_depth': 8, 'min_child_weight': 6, 'gamma': 0.24761476437843621}. Best is trial 9 with value: 0.9149006622516557.\n",
            "[I 2024-07-03 08:46:20,907] Trial 36 finished with value: 0.9082781456953642 and parameters: {'n_estimators': 770, 'reg_lambda': 0.6585442541044865, 'reg_alpha': 3.246294912247733, 'subsample': 0.8, 'colsample_bytree': 0.9, 'max_depth': 9, 'min_child_weight': 5, 'gamma': 0.25736520873222574}. Best is trial 9 with value: 0.9149006622516557.\n",
            "[I 2024-07-03 08:46:24,800] Trial 37 finished with value: 0.9109271523178808 and parameters: {'n_estimators': 885, 'reg_lambda': 1.1095131756297758, 'reg_alpha': 3.857316862874318, 'subsample': 0.6000000000000001, 'colsample_bytree': 0.9, 'max_depth': 8, 'min_child_weight': 7, 'gamma': 0.17025717436245547}. Best is trial 9 with value: 0.9149006622516557.\n",
            "[I 2024-07-03 08:46:28,262] Trial 38 finished with value: 0.91158940397351 and parameters: {'n_estimators': 720, 'reg_lambda': 1.202533040249733, 'reg_alpha': 3.5486270170251046, 'subsample': 0.7, 'colsample_bytree': 0.9, 'max_depth': 9, 'min_child_weight': 9, 'gamma': 0.22796196071052344}. Best is trial 9 with value: 0.9149006622516557.\n",
            "[I 2024-07-03 08:46:34,755] Trial 39 finished with value: 0.9152317880794701 and parameters: {'n_estimators': 835, 'reg_lambda': 1.5649204974345132, 'reg_alpha': 4.069889496209269, 'subsample': 0.5, 'colsample_bytree': 0.9, 'max_depth': 9, 'min_child_weight': 5, 'gamma': 0.21059737665405856}. Best is trial 39 with value: 0.9152317880794701.\n",
            "[I 2024-07-03 08:46:38,427] Trial 40 finished with value: 0.9079470198675497 and parameters: {'n_estimators': 835, 'reg_lambda': 1.6219687233806475, 'reg_alpha': 4.99393789564555, 'subsample': 0.5, 'colsample_bytree': 0.8, 'max_depth': 8, 'min_child_weight': 6, 'gamma': 0.15343621795426302}. Best is trial 39 with value: 0.9152317880794701.\n",
            "[I 2024-07-03 08:46:46,113] Trial 41 finished with value: 0.9145695364238411 and parameters: {'n_estimators': 860, 'reg_lambda': 1.737229477359464, 'reg_alpha': 4.158175995095174, 'subsample': 0.6000000000000001, 'colsample_bytree': 0.9, 'max_depth': 9, 'min_child_weight': 5, 'gamma': 0.21762426992729292}. Best is trial 39 with value: 0.9152317880794701.\n",
            "[I 2024-07-03 08:46:50,480] Trial 42 finished with value: 0.9132450331125828 and parameters: {'n_estimators': 865, 'reg_lambda': 1.545946781132941, 'reg_alpha': 4.113271972006675, 'subsample': 0.5, 'colsample_bytree': 0.9, 'max_depth': 9, 'min_child_weight': 5, 'gamma': 0.23624589106969796}. Best is trial 39 with value: 0.9152317880794701.\n",
            "[I 2024-07-03 08:46:54,676] Trial 43 finished with value: 0.9145695364238411 and parameters: {'n_estimators': 890, 'reg_lambda': 1.8620471318448917, 'reg_alpha': 4.284875394989165, 'subsample': 0.6000000000000001, 'colsample_bytree': 0.9, 'max_depth': 9, 'min_child_weight': 5, 'gamma': 0.2217248003057857}. Best is trial 39 with value: 0.9152317880794701.\n",
            "[I 2024-07-03 08:47:01,385] Trial 44 finished with value: 0.91158940397351 and parameters: {'n_estimators': 920, 'reg_lambda': 1.853216108038474, 'reg_alpha': 4.340540312469633, 'subsample': 0.4, 'colsample_bytree': 0.9, 'max_depth': 9, 'min_child_weight': 5, 'gamma': 0.22002056244402615}. Best is trial 39 with value: 0.9152317880794701.\n",
            "[I 2024-07-03 08:47:05,494] Trial 45 finished with value: 0.9089403973509934 and parameters: {'n_estimators': 895, 'reg_lambda': 1.7570659909415196, 'reg_alpha': 4.023456951926543, 'subsample': 0.5, 'colsample_bytree': 0.9, 'max_depth': 9, 'min_child_weight': 10, 'gamma': 0.19590032874576793}. Best is trial 39 with value: 0.9152317880794701.\n",
            "[I 2024-07-03 08:47:12,288] Trial 46 finished with value: 0.9129139072847682 and parameters: {'n_estimators': 930, 'reg_lambda': 1.4951124766894153, 'reg_alpha': 4.744740970789198, 'subsample': 0.6000000000000001, 'colsample_bytree': 0.9, 'max_depth': 9, 'min_child_weight': 5, 'gamma': 0.2108500183971166}. Best is trial 39 with value: 0.9152317880794701.\n",
            "[I 2024-07-03 08:47:16,912] Trial 47 finished with value: 0.9125827814569536 and parameters: {'n_estimators': 960, 'reg_lambda': 1.9923736314329705, 'reg_alpha': 4.526777368513627, 'subsample': 0.5, 'colsample_bytree': 0.9, 'max_depth': 10, 'min_child_weight': 6, 'gamma': 0.23029628635433946}. Best is trial 39 with value: 0.9152317880794701.\n",
            "[I 2024-07-03 08:47:21,059] Trial 48 finished with value: 0.9139072847682119 and parameters: {'n_estimators': 880, 'reg_lambda': 1.840596184396438, 'reg_alpha': 5.18334435847612, 'subsample': 0.6000000000000001, 'colsample_bytree': 0.9, 'max_depth': 9, 'min_child_weight': 6, 'gamma': 0.22001652918962547}. Best is trial 39 with value: 0.9152317880794701.\n",
            "[I 2024-07-03 08:47:27,205] Trial 49 finished with value: 0.909933774834437 and parameters: {'n_estimators': 860, 'reg_lambda': 1.4355021576381868, 'reg_alpha': 3.981528947055177, 'subsample': 0.5, 'colsample_bytree': 0.8, 'max_depth': 8, 'min_child_weight': 5, 'gamma': 0.1850355178974232}. Best is trial 39 with value: 0.9152317880794701.\n"
          ]
        }
      ]
    },
    {
      "cell_type": "code",
      "source": [
        "trial = study_xgb.best_trial\n",
        "print('Accuracy: {}'.format(trial.value))"
      ],
      "metadata": {
        "colab": {
          "base_uri": "https://localhost:8080/"
        },
        "id": "hjir2lndYM5y",
        "outputId": "5fe4e0df-ac10-42d0-94f7-85995ea5ae3e"
      },
      "execution_count": 137,
      "outputs": [
        {
          "output_type": "stream",
          "name": "stdout",
          "text": [
            "Accuracy: 0.9152317880794701\n"
          ]
        }
      ]
    },
    {
      "cell_type": "code",
      "source": [
        "### printing the best estimators\n",
        "study_xgb.best_params"
      ],
      "metadata": {
        "colab": {
          "base_uri": "https://localhost:8080/"
        },
        "id": "MJtaHLGNb_V-",
        "outputId": "e3176068-8e21-4e29-8e33-cdcfb0665845"
      },
      "execution_count": 138,
      "outputs": [
        {
          "output_type": "execute_result",
          "data": {
            "text/plain": [
              "{'n_estimators': 835,\n",
              " 'reg_lambda': 1.5649204974345132,\n",
              " 'reg_alpha': 4.069889496209269,\n",
              " 'subsample': 0.5,\n",
              " 'colsample_bytree': 0.9,\n",
              " 'max_depth': 9,\n",
              " 'min_child_weight': 5,\n",
              " 'gamma': 0.21059737665405856}"
            ]
          },
          "metadata": {},
          "execution_count": 138
        }
      ]
    },
    {
      "cell_type": "code",
      "source": [
        "optuna.visualization.plot_optimization_history(study_xgb)"
      ],
      "metadata": {
        "colab": {
          "base_uri": "https://localhost:8080/",
          "height": 542
        },
        "id": "j_CyFIt_cJfI",
        "outputId": "8b55be78-977e-40d0-ef45-e700e69d306a"
      },
      "execution_count": 139,
      "outputs": [
        {
          "output_type": "display_data",
          "data": {
            "text/html": [
              "<html>\n",
              "<head><meta charset=\"utf-8\" /></head>\n",
              "<body>\n",
              "    <div>            <script src=\"https://cdnjs.cloudflare.com/ajax/libs/mathjax/2.7.5/MathJax.js?config=TeX-AMS-MML_SVG\"></script><script type=\"text/javascript\">if (window.MathJax && window.MathJax.Hub && window.MathJax.Hub.Config) {window.MathJax.Hub.Config({SVG: {font: \"STIX-Web\"}});}</script>                <script type=\"text/javascript\">window.PlotlyConfig = {MathJaxConfig: 'local'};</script>\n",
              "        <script charset=\"utf-8\" src=\"https://cdn.plot.ly/plotly-2.24.1.min.js\"></script>                <div id=\"f0c5e7f9-9d45-45b3-bc60-30529533f000\" class=\"plotly-graph-div\" style=\"height:525px; width:100%;\"></div>            <script type=\"text/javascript\">                                    window.PLOTLYENV=window.PLOTLYENV || {};                                    if (document.getElementById(\"f0c5e7f9-9d45-45b3-bc60-30529533f000\")) {                    Plotly.newPlot(                        \"f0c5e7f9-9d45-45b3-bc60-30529533f000\",                        [{\"mode\":\"markers\",\"name\":\"Objective Value\",\"x\":[0,1,2,3,4,5,6,7,8,9,10,11,12,13,14,15,16,17,18,19,20,21,22,23,24,25,26,27,28,29,30,31,32,33,34,35,36,37,38,39,40,41,42,43,44,45,46,47,48,49],\"y\":[0.9125827814569536,0.8947019867549669,0.8966887417218543,0.9122516556291391,0.9079470198675497,0.8966887417218543,0.9026490066225166,0.9059602649006623,0.9096026490066225,0.9149006622516557,0.9132450331125828,0.9105960264900662,0.9089403973509934,0.9112582781456954,0.9129139072847682,0.9069536423841059,0.9132450331125828,0.9129139072847682,0.9122516556291391,0.9105960264900662,0.91158940397351,0.9129139072847682,0.9139072847682119,0.9089403973509934,0.9089403973509934,0.9132450331125828,0.9119205298013245,0.909271523178808,0.9142384105960265,0.9129139072847682,0.9105960264900662,0.9135761589403973,0.9132450331125828,0.9132450331125828,0.9096026490066225,0.91158940397351,0.9082781456953642,0.9109271523178808,0.91158940397351,0.9152317880794701,0.9079470198675497,0.9145695364238411,0.9132450331125828,0.9145695364238411,0.91158940397351,0.9089403973509934,0.9129139072847682,0.9125827814569536,0.9139072847682119,0.909933774834437],\"type\":\"scatter\"},{\"mode\":\"lines\",\"name\":\"Best Value\",\"x\":[0,1,2,3,4,5,6,7,8,9,10,11,12,13,14,15,16,17,18,19,20,21,22,23,24,25,26,27,28,29,30,31,32,33,34,35,36,37,38,39,40,41,42,43,44,45,46,47,48,49],\"y\":[0.9125827814569536,0.9125827814569536,0.9125827814569536,0.9125827814569536,0.9125827814569536,0.9125827814569536,0.9125827814569536,0.9125827814569536,0.9125827814569536,0.9149006622516557,0.9149006622516557,0.9149006622516557,0.9149006622516557,0.9149006622516557,0.9149006622516557,0.9149006622516557,0.9149006622516557,0.9149006622516557,0.9149006622516557,0.9149006622516557,0.9149006622516557,0.9149006622516557,0.9149006622516557,0.9149006622516557,0.9149006622516557,0.9149006622516557,0.9149006622516557,0.9149006622516557,0.9149006622516557,0.9149006622516557,0.9149006622516557,0.9149006622516557,0.9149006622516557,0.9149006622516557,0.9149006622516557,0.9149006622516557,0.9149006622516557,0.9149006622516557,0.9149006622516557,0.9152317880794701,0.9152317880794701,0.9152317880794701,0.9152317880794701,0.9152317880794701,0.9152317880794701,0.9152317880794701,0.9152317880794701,0.9152317880794701,0.9152317880794701,0.9152317880794701],\"type\":\"scatter\"},{\"marker\":{\"color\":\"#cccccc\"},\"mode\":\"markers\",\"name\":\"Infeasible Trial\",\"showlegend\":false,\"x\":[],\"y\":[],\"type\":\"scatter\"}],                        {\"title\":{\"text\":\"Optimization History Plot\"},\"xaxis\":{\"title\":{\"text\":\"Trial\"}},\"yaxis\":{\"title\":{\"text\":\"Objective Value\"}},\"template\":{\"data\":{\"histogram2dcontour\":[{\"type\":\"histogram2dcontour\",\"colorbar\":{\"outlinewidth\":0,\"ticks\":\"\"},\"colorscale\":[[0.0,\"#0d0887\"],[0.1111111111111111,\"#46039f\"],[0.2222222222222222,\"#7201a8\"],[0.3333333333333333,\"#9c179e\"],[0.4444444444444444,\"#bd3786\"],[0.5555555555555556,\"#d8576b\"],[0.6666666666666666,\"#ed7953\"],[0.7777777777777778,\"#fb9f3a\"],[0.8888888888888888,\"#fdca26\"],[1.0,\"#f0f921\"]]}],\"choropleth\":[{\"type\":\"choropleth\",\"colorbar\":{\"outlinewidth\":0,\"ticks\":\"\"}}],\"histogram2d\":[{\"type\":\"histogram2d\",\"colorbar\":{\"outlinewidth\":0,\"ticks\":\"\"},\"colorscale\":[[0.0,\"#0d0887\"],[0.1111111111111111,\"#46039f\"],[0.2222222222222222,\"#7201a8\"],[0.3333333333333333,\"#9c179e\"],[0.4444444444444444,\"#bd3786\"],[0.5555555555555556,\"#d8576b\"],[0.6666666666666666,\"#ed7953\"],[0.7777777777777778,\"#fb9f3a\"],[0.8888888888888888,\"#fdca26\"],[1.0,\"#f0f921\"]]}],\"heatmap\":[{\"type\":\"heatmap\",\"colorbar\":{\"outlinewidth\":0,\"ticks\":\"\"},\"colorscale\":[[0.0,\"#0d0887\"],[0.1111111111111111,\"#46039f\"],[0.2222222222222222,\"#7201a8\"],[0.3333333333333333,\"#9c179e\"],[0.4444444444444444,\"#bd3786\"],[0.5555555555555556,\"#d8576b\"],[0.6666666666666666,\"#ed7953\"],[0.7777777777777778,\"#fb9f3a\"],[0.8888888888888888,\"#fdca26\"],[1.0,\"#f0f921\"]]}],\"heatmapgl\":[{\"type\":\"heatmapgl\",\"colorbar\":{\"outlinewidth\":0,\"ticks\":\"\"},\"colorscale\":[[0.0,\"#0d0887\"],[0.1111111111111111,\"#46039f\"],[0.2222222222222222,\"#7201a8\"],[0.3333333333333333,\"#9c179e\"],[0.4444444444444444,\"#bd3786\"],[0.5555555555555556,\"#d8576b\"],[0.6666666666666666,\"#ed7953\"],[0.7777777777777778,\"#fb9f3a\"],[0.8888888888888888,\"#fdca26\"],[1.0,\"#f0f921\"]]}],\"contourcarpet\":[{\"type\":\"contourcarpet\",\"colorbar\":{\"outlinewidth\":0,\"ticks\":\"\"}}],\"contour\":[{\"type\":\"contour\",\"colorbar\":{\"outlinewidth\":0,\"ticks\":\"\"},\"colorscale\":[[0.0,\"#0d0887\"],[0.1111111111111111,\"#46039f\"],[0.2222222222222222,\"#7201a8\"],[0.3333333333333333,\"#9c179e\"],[0.4444444444444444,\"#bd3786\"],[0.5555555555555556,\"#d8576b\"],[0.6666666666666666,\"#ed7953\"],[0.7777777777777778,\"#fb9f3a\"],[0.8888888888888888,\"#fdca26\"],[1.0,\"#f0f921\"]]}],\"surface\":[{\"type\":\"surface\",\"colorbar\":{\"outlinewidth\":0,\"ticks\":\"\"},\"colorscale\":[[0.0,\"#0d0887\"],[0.1111111111111111,\"#46039f\"],[0.2222222222222222,\"#7201a8\"],[0.3333333333333333,\"#9c179e\"],[0.4444444444444444,\"#bd3786\"],[0.5555555555555556,\"#d8576b\"],[0.6666666666666666,\"#ed7953\"],[0.7777777777777778,\"#fb9f3a\"],[0.8888888888888888,\"#fdca26\"],[1.0,\"#f0f921\"]]}],\"mesh3d\":[{\"type\":\"mesh3d\",\"colorbar\":{\"outlinewidth\":0,\"ticks\":\"\"}}],\"scatter\":[{\"fillpattern\":{\"fillmode\":\"overlay\",\"size\":10,\"solidity\":0.2},\"type\":\"scatter\"}],\"parcoords\":[{\"type\":\"parcoords\",\"line\":{\"colorbar\":{\"outlinewidth\":0,\"ticks\":\"\"}}}],\"scatterpolargl\":[{\"type\":\"scatterpolargl\",\"marker\":{\"colorbar\":{\"outlinewidth\":0,\"ticks\":\"\"}}}],\"bar\":[{\"error_x\":{\"color\":\"#2a3f5f\"},\"error_y\":{\"color\":\"#2a3f5f\"},\"marker\":{\"line\":{\"color\":\"#E5ECF6\",\"width\":0.5},\"pattern\":{\"fillmode\":\"overlay\",\"size\":10,\"solidity\":0.2}},\"type\":\"bar\"}],\"scattergeo\":[{\"type\":\"scattergeo\",\"marker\":{\"colorbar\":{\"outlinewidth\":0,\"ticks\":\"\"}}}],\"scatterpolar\":[{\"type\":\"scatterpolar\",\"marker\":{\"colorbar\":{\"outlinewidth\":0,\"ticks\":\"\"}}}],\"histogram\":[{\"marker\":{\"pattern\":{\"fillmode\":\"overlay\",\"size\":10,\"solidity\":0.2}},\"type\":\"histogram\"}],\"scattergl\":[{\"type\":\"scattergl\",\"marker\":{\"colorbar\":{\"outlinewidth\":0,\"ticks\":\"\"}}}],\"scatter3d\":[{\"type\":\"scatter3d\",\"line\":{\"colorbar\":{\"outlinewidth\":0,\"ticks\":\"\"}},\"marker\":{\"colorbar\":{\"outlinewidth\":0,\"ticks\":\"\"}}}],\"scattermapbox\":[{\"type\":\"scattermapbox\",\"marker\":{\"colorbar\":{\"outlinewidth\":0,\"ticks\":\"\"}}}],\"scatterternary\":[{\"type\":\"scatterternary\",\"marker\":{\"colorbar\":{\"outlinewidth\":0,\"ticks\":\"\"}}}],\"scattercarpet\":[{\"type\":\"scattercarpet\",\"marker\":{\"colorbar\":{\"outlinewidth\":0,\"ticks\":\"\"}}}],\"carpet\":[{\"aaxis\":{\"endlinecolor\":\"#2a3f5f\",\"gridcolor\":\"white\",\"linecolor\":\"white\",\"minorgridcolor\":\"white\",\"startlinecolor\":\"#2a3f5f\"},\"baxis\":{\"endlinecolor\":\"#2a3f5f\",\"gridcolor\":\"white\",\"linecolor\":\"white\",\"minorgridcolor\":\"white\",\"startlinecolor\":\"#2a3f5f\"},\"type\":\"carpet\"}],\"table\":[{\"cells\":{\"fill\":{\"color\":\"#EBF0F8\"},\"line\":{\"color\":\"white\"}},\"header\":{\"fill\":{\"color\":\"#C8D4E3\"},\"line\":{\"color\":\"white\"}},\"type\":\"table\"}],\"barpolar\":[{\"marker\":{\"line\":{\"color\":\"#E5ECF6\",\"width\":0.5},\"pattern\":{\"fillmode\":\"overlay\",\"size\":10,\"solidity\":0.2}},\"type\":\"barpolar\"}],\"pie\":[{\"automargin\":true,\"type\":\"pie\"}]},\"layout\":{\"autotypenumbers\":\"strict\",\"colorway\":[\"#636efa\",\"#EF553B\",\"#00cc96\",\"#ab63fa\",\"#FFA15A\",\"#19d3f3\",\"#FF6692\",\"#B6E880\",\"#FF97FF\",\"#FECB52\"],\"font\":{\"color\":\"#2a3f5f\"},\"hovermode\":\"closest\",\"hoverlabel\":{\"align\":\"left\"},\"paper_bgcolor\":\"white\",\"plot_bgcolor\":\"#E5ECF6\",\"polar\":{\"bgcolor\":\"#E5ECF6\",\"angularaxis\":{\"gridcolor\":\"white\",\"linecolor\":\"white\",\"ticks\":\"\"},\"radialaxis\":{\"gridcolor\":\"white\",\"linecolor\":\"white\",\"ticks\":\"\"}},\"ternary\":{\"bgcolor\":\"#E5ECF6\",\"aaxis\":{\"gridcolor\":\"white\",\"linecolor\":\"white\",\"ticks\":\"\"},\"baxis\":{\"gridcolor\":\"white\",\"linecolor\":\"white\",\"ticks\":\"\"},\"caxis\":{\"gridcolor\":\"white\",\"linecolor\":\"white\",\"ticks\":\"\"}},\"coloraxis\":{\"colorbar\":{\"outlinewidth\":0,\"ticks\":\"\"}},\"colorscale\":{\"sequential\":[[0.0,\"#0d0887\"],[0.1111111111111111,\"#46039f\"],[0.2222222222222222,\"#7201a8\"],[0.3333333333333333,\"#9c179e\"],[0.4444444444444444,\"#bd3786\"],[0.5555555555555556,\"#d8576b\"],[0.6666666666666666,\"#ed7953\"],[0.7777777777777778,\"#fb9f3a\"],[0.8888888888888888,\"#fdca26\"],[1.0,\"#f0f921\"]],\"sequentialminus\":[[0.0,\"#0d0887\"],[0.1111111111111111,\"#46039f\"],[0.2222222222222222,\"#7201a8\"],[0.3333333333333333,\"#9c179e\"],[0.4444444444444444,\"#bd3786\"],[0.5555555555555556,\"#d8576b\"],[0.6666666666666666,\"#ed7953\"],[0.7777777777777778,\"#fb9f3a\"],[0.8888888888888888,\"#fdca26\"],[1.0,\"#f0f921\"]],\"diverging\":[[0,\"#8e0152\"],[0.1,\"#c51b7d\"],[0.2,\"#de77ae\"],[0.3,\"#f1b6da\"],[0.4,\"#fde0ef\"],[0.5,\"#f7f7f7\"],[0.6,\"#e6f5d0\"],[0.7,\"#b8e186\"],[0.8,\"#7fbc41\"],[0.9,\"#4d9221\"],[1,\"#276419\"]]},\"xaxis\":{\"gridcolor\":\"white\",\"linecolor\":\"white\",\"ticks\":\"\",\"title\":{\"standoff\":15},\"zerolinecolor\":\"white\",\"automargin\":true,\"zerolinewidth\":2},\"yaxis\":{\"gridcolor\":\"white\",\"linecolor\":\"white\",\"ticks\":\"\",\"title\":{\"standoff\":15},\"zerolinecolor\":\"white\",\"automargin\":true,\"zerolinewidth\":2},\"scene\":{\"xaxis\":{\"backgroundcolor\":\"#E5ECF6\",\"gridcolor\":\"white\",\"linecolor\":\"white\",\"showbackground\":true,\"ticks\":\"\",\"zerolinecolor\":\"white\",\"gridwidth\":2},\"yaxis\":{\"backgroundcolor\":\"#E5ECF6\",\"gridcolor\":\"white\",\"linecolor\":\"white\",\"showbackground\":true,\"ticks\":\"\",\"zerolinecolor\":\"white\",\"gridwidth\":2},\"zaxis\":{\"backgroundcolor\":\"#E5ECF6\",\"gridcolor\":\"white\",\"linecolor\":\"white\",\"showbackground\":true,\"ticks\":\"\",\"zerolinecolor\":\"white\",\"gridwidth\":2}},\"shapedefaults\":{\"line\":{\"color\":\"#2a3f5f\"}},\"annotationdefaults\":{\"arrowcolor\":\"#2a3f5f\",\"arrowhead\":0,\"arrowwidth\":1},\"geo\":{\"bgcolor\":\"white\",\"landcolor\":\"#E5ECF6\",\"subunitcolor\":\"white\",\"showland\":true,\"showlakes\":true,\"lakecolor\":\"white\"},\"title\":{\"x\":0.05},\"mapbox\":{\"style\":\"light\"}}}},                        {\"responsive\": true}                    ).then(function(){\n",
              "                            \n",
              "var gd = document.getElementById('f0c5e7f9-9d45-45b3-bc60-30529533f000');\n",
              "var x = new MutationObserver(function (mutations, observer) {{\n",
              "        var display = window.getComputedStyle(gd).display;\n",
              "        if (!display || display === 'none') {{\n",
              "            console.log([gd, 'removed!']);\n",
              "            Plotly.purge(gd);\n",
              "            observer.disconnect();\n",
              "        }}\n",
              "}});\n",
              "\n",
              "// Listen for the removal of the full notebook cells\n",
              "var notebookContainer = gd.closest('#notebook-container');\n",
              "if (notebookContainer) {{\n",
              "    x.observe(notebookContainer, {childList: true});\n",
              "}}\n",
              "\n",
              "// Listen for the clearing of the current output cell\n",
              "var outputEl = gd.closest('.output');\n",
              "if (outputEl) {{\n",
              "    x.observe(outputEl, {childList: true});\n",
              "}}\n",
              "\n",
              "                        })                };                            </script>        </div>\n",
              "</body>\n",
              "</html>"
            ]
          },
          "metadata": {}
        }
      ]
    },
    {
      "cell_type": "code",
      "source": [
        "optuna.visualization.plot_slice(study_xgb)"
      ],
      "metadata": {
        "colab": {
          "base_uri": "https://localhost:8080/",
          "height": 562
        },
        "id": "CTfH2WsmcXX9",
        "outputId": "c1c72102-a602-4ac9-aa4d-525016f10403"
      },
      "execution_count": 140,
      "outputs": [
        {
          "output_type": "display_data",
          "data": {
            "text/html": [
              "<html>\n",
              "<head><meta charset=\"utf-8\" /></head>\n",
              "<body>\n",
              "    <div>            <script src=\"https://cdnjs.cloudflare.com/ajax/libs/mathjax/2.7.5/MathJax.js?config=TeX-AMS-MML_SVG\"></script><script type=\"text/javascript\">if (window.MathJax && window.MathJax.Hub && window.MathJax.Hub.Config) {window.MathJax.Hub.Config({SVG: {font: \"STIX-Web\"}});}</script>                <script type=\"text/javascript\">window.PlotlyConfig = {MathJaxConfig: 'local'};</script>\n",
              "        <script charset=\"utf-8\" src=\"https://cdn.plot.ly/plotly-2.24.1.min.js\"></script>                <div id=\"55ef63b2-adcd-44c9-bf00-45df4f326fe6\" class=\"plotly-graph-div\" style=\"height:525px; width:2400px;\"></div>            <script type=\"text/javascript\">                                    window.PLOTLYENV=window.PLOTLYENV || {};                                    if (document.getElementById(\"55ef63b2-adcd-44c9-bf00-45df4f326fe6\")) {                    Plotly.newPlot(                        \"55ef63b2-adcd-44c9-bf00-45df4f326fe6\",                        [{\"marker\":{\"color\":[0,1,2,3,4,5,6,7,8,9,10,11,12,13,14,15,16,17,18,19,20,21,22,23,24,25,26,27,28,29,30,31,32,33,34,35,36,37,38,39,40,41,42,43,44,45,46,47,48,49],\"colorbar\":{\"title\":{\"text\":\"Trial\"},\"x\":1.0,\"xpad\":40},\"colorscale\":[[0.0,\"rgb(247,251,255)\"],[0.125,\"rgb(222,235,247)\"],[0.25,\"rgb(198,219,239)\"],[0.375,\"rgb(158,202,225)\"],[0.5,\"rgb(107,174,214)\"],[0.625,\"rgb(66,146,198)\"],[0.75,\"rgb(33,113,181)\"],[0.875,\"rgb(8,81,156)\"],[1.0,\"rgb(8,48,107)\"]],\"line\":{\"color\":\"Grey\",\"width\":0.5},\"showscale\":true},\"mode\":\"markers\",\"name\":\"Feasible Trial\",\"showlegend\":false,\"x\":[0.9,1.0,0.9,1.0,0.9,0.9,0.9,0.8,0.9,1.0,1.0,1.0,1.0,1.0,0.8,1.0,1.0,1.0,0.8,1.0,0.9,1.0,1.0,1.0,1.0,1.0,1.0,1.0,0.9,0.9,0.9,0.9,0.9,0.9,0.9,0.8,0.9,0.9,0.9,0.9,0.8,0.9,0.9,0.9,0.9,0.9,0.9,0.9,0.9,0.8],\"y\":[0.9125827814569536,0.8947019867549669,0.8966887417218543,0.9122516556291391,0.9079470198675497,0.8966887417218543,0.9026490066225166,0.9059602649006623,0.9096026490066225,0.9149006622516557,0.9132450331125828,0.9105960264900662,0.9089403973509934,0.9112582781456954,0.9129139072847682,0.9069536423841059,0.9132450331125828,0.9129139072847682,0.9122516556291391,0.9105960264900662,0.91158940397351,0.9129139072847682,0.9139072847682119,0.9089403973509934,0.9089403973509934,0.9132450331125828,0.9119205298013245,0.909271523178808,0.9142384105960265,0.9129139072847682,0.9105960264900662,0.9135761589403973,0.9132450331125828,0.9132450331125828,0.9096026490066225,0.91158940397351,0.9082781456953642,0.9109271523178808,0.91158940397351,0.9152317880794701,0.9079470198675497,0.9145695364238411,0.9132450331125828,0.9145695364238411,0.91158940397351,0.9089403973509934,0.9129139072847682,0.9125827814569536,0.9139072847682119,0.909933774834437],\"type\":\"scatter\",\"xaxis\":\"x\",\"yaxis\":\"y\"},{\"marker\":{\"color\":[0,1,2,3,4,5,6,7,8,9,10,11,12,13,14,15,16,17,18,19,20,21,22,23,24,25,26,27,28,29,30,31,32,33,34,35,36,37,38,39,40,41,42,43,44,45,46,47,48,49],\"colorbar\":{\"title\":{\"text\":\"Trial\"},\"x\":1.0,\"xpad\":40},\"colorscale\":[[0.0,\"rgb(247,251,255)\"],[0.125,\"rgb(222,235,247)\"],[0.25,\"rgb(198,219,239)\"],[0.375,\"rgb(158,202,225)\"],[0.5,\"rgb(107,174,214)\"],[0.625,\"rgb(66,146,198)\"],[0.75,\"rgb(33,113,181)\"],[0.875,\"rgb(8,81,156)\"],[1.0,\"rgb(8,48,107)\"]],\"line\":{\"color\":\"Grey\",\"width\":0.5},\"showscale\":false},\"mode\":\"markers\",\"name\":\"Feasible Trial\",\"showlegend\":false,\"x\":[0.2530720996138044,0.2668505272594852,0.16762789921650825,0.2707110681899906,0.1439704944432293,0.2796597222278739,0.24075457189354524,0.271177880668414,0.22965399911366563,0.19486987650603493,0.18964849357625732,0.19289411465992928,0.20087675777241204,0.1817888614797453,0.16196792452832745,0.21819425264927242,0.14027337709037252,0.20038070242921058,0.2969911942567761,0.17456628446122635,0.2151526812001748,0.13053729869883185,0.15269843885027293,0.1613396623002583,0.19002603875918667,0.15121367529898966,0.1822413975577067,0.2037792026463222,0.2297648580242716,0.24389402495240167,0.22413460668890536,0.21045637298969544,0.23443932519348912,0.25576744132004386,0.20934445376369282,0.24761476437843621,0.25736520873222574,0.17025717436245547,0.22796196071052344,0.21059737665405856,0.15343621795426302,0.21762426992729292,0.23624589106969796,0.2217248003057857,0.22002056244402615,0.19590032874576793,0.2108500183971166,0.23029628635433946,0.22001652918962547,0.1850355178974232],\"y\":[0.9125827814569536,0.8947019867549669,0.8966887417218543,0.9122516556291391,0.9079470198675497,0.8966887417218543,0.9026490066225166,0.9059602649006623,0.9096026490066225,0.9149006622516557,0.9132450331125828,0.9105960264900662,0.9089403973509934,0.9112582781456954,0.9129139072847682,0.9069536423841059,0.9132450331125828,0.9129139072847682,0.9122516556291391,0.9105960264900662,0.91158940397351,0.9129139072847682,0.9139072847682119,0.9089403973509934,0.9089403973509934,0.9132450331125828,0.9119205298013245,0.909271523178808,0.9142384105960265,0.9129139072847682,0.9105960264900662,0.9135761589403973,0.9132450331125828,0.9132450331125828,0.9096026490066225,0.91158940397351,0.9082781456953642,0.9109271523178808,0.91158940397351,0.9152317880794701,0.9079470198675497,0.9145695364238411,0.9132450331125828,0.9145695364238411,0.91158940397351,0.9089403973509934,0.9129139072847682,0.9125827814569536,0.9139072847682119,0.909933774834437],\"type\":\"scatter\",\"xaxis\":\"x2\",\"yaxis\":\"y2\"},{\"marker\":{\"color\":[0,1,2,3,4,5,6,7,8,9,10,11,12,13,14,15,16,17,18,19,20,21,22,23,24,25,26,27,28,29,30,31,32,33,34,35,36,37,38,39,40,41,42,43,44,45,46,47,48,49],\"colorbar\":{\"title\":{\"text\":\"Trial\"},\"x\":1.0,\"xpad\":40},\"colorscale\":[[0.0,\"rgb(247,251,255)\"],[0.125,\"rgb(222,235,247)\"],[0.25,\"rgb(198,219,239)\"],[0.375,\"rgb(158,202,225)\"],[0.5,\"rgb(107,174,214)\"],[0.625,\"rgb(66,146,198)\"],[0.75,\"rgb(33,113,181)\"],[0.875,\"rgb(8,81,156)\"],[1.0,\"rgb(8,48,107)\"]],\"line\":{\"color\":\"Grey\",\"width\":0.5},\"showscale\":false},\"mode\":\"markers\",\"name\":\"Feasible Trial\",\"showlegend\":false,\"x\":[9,7,7,10,8,7,7,9,7,9,10,10,9,10,8,10,9,8,10,9,10,9,9,8,9,9,10,8,9,9,9,9,9,9,9,8,9,8,9,9,8,9,9,9,9,9,9,10,9,8],\"y\":[0.9125827814569536,0.8947019867549669,0.8966887417218543,0.9122516556291391,0.9079470198675497,0.8966887417218543,0.9026490066225166,0.9059602649006623,0.9096026490066225,0.9149006622516557,0.9132450331125828,0.9105960264900662,0.9089403973509934,0.9112582781456954,0.9129139072847682,0.9069536423841059,0.9132450331125828,0.9129139072847682,0.9122516556291391,0.9105960264900662,0.91158940397351,0.9129139072847682,0.9139072847682119,0.9089403973509934,0.9089403973509934,0.9132450331125828,0.9119205298013245,0.909271523178808,0.9142384105960265,0.9129139072847682,0.9105960264900662,0.9135761589403973,0.9132450331125828,0.9132450331125828,0.9096026490066225,0.91158940397351,0.9082781456953642,0.9109271523178808,0.91158940397351,0.9152317880794701,0.9079470198675497,0.9145695364238411,0.9132450331125828,0.9145695364238411,0.91158940397351,0.9089403973509934,0.9129139072847682,0.9125827814569536,0.9139072847682119,0.909933774834437],\"type\":\"scatter\",\"xaxis\":\"x3\",\"yaxis\":\"y3\"},{\"marker\":{\"color\":[0,1,2,3,4,5,6,7,8,9,10,11,12,13,14,15,16,17,18,19,20,21,22,23,24,25,26,27,28,29,30,31,32,33,34,35,36,37,38,39,40,41,42,43,44,45,46,47,48,49],\"colorbar\":{\"title\":{\"text\":\"Trial\"},\"x\":1.0,\"xpad\":40},\"colorscale\":[[0.0,\"rgb(247,251,255)\"],[0.125,\"rgb(222,235,247)\"],[0.25,\"rgb(198,219,239)\"],[0.375,\"rgb(158,202,225)\"],[0.5,\"rgb(107,174,214)\"],[0.625,\"rgb(66,146,198)\"],[0.75,\"rgb(33,113,181)\"],[0.875,\"rgb(8,81,156)\"],[1.0,\"rgb(8,48,107)\"]],\"line\":{\"color\":\"Grey\",\"width\":0.5},\"showscale\":false},\"mode\":\"markers\",\"name\":\"Feasible Trial\",\"showlegend\":false,\"x\":[9,9,10,7,9,7,8,8,5,5,5,5,6,6,5,6,6,5,7,5,6,6,5,5,5,5,6,7,5,10,8,5,5,6,5,6,5,7,9,5,6,5,5,5,5,10,5,6,6,5],\"y\":[0.9125827814569536,0.8947019867549669,0.8966887417218543,0.9122516556291391,0.9079470198675497,0.8966887417218543,0.9026490066225166,0.9059602649006623,0.9096026490066225,0.9149006622516557,0.9132450331125828,0.9105960264900662,0.9089403973509934,0.9112582781456954,0.9129139072847682,0.9069536423841059,0.9132450331125828,0.9129139072847682,0.9122516556291391,0.9105960264900662,0.91158940397351,0.9129139072847682,0.9139072847682119,0.9089403973509934,0.9089403973509934,0.9132450331125828,0.9119205298013245,0.909271523178808,0.9142384105960265,0.9129139072847682,0.9105960264900662,0.9135761589403973,0.9132450331125828,0.9132450331125828,0.9096026490066225,0.91158940397351,0.9082781456953642,0.9109271523178808,0.91158940397351,0.9152317880794701,0.9079470198675497,0.9145695364238411,0.9132450331125828,0.9145695364238411,0.91158940397351,0.9089403973509934,0.9129139072847682,0.9125827814569536,0.9139072847682119,0.909933774834437],\"type\":\"scatter\",\"xaxis\":\"x4\",\"yaxis\":\"y4\"},{\"marker\":{\"color\":[0,1,2,3,4,5,6,7,8,9,10,11,12,13,14,15,16,17,18,19,20,21,22,23,24,25,26,27,28,29,30,31,32,33,34,35,36,37,38,39,40,41,42,43,44,45,46,47,48,49],\"colorbar\":{\"title\":{\"text\":\"Trial\"},\"x\":1.0,\"xpad\":40},\"colorscale\":[[0.0,\"rgb(247,251,255)\"],[0.125,\"rgb(222,235,247)\"],[0.25,\"rgb(198,219,239)\"],[0.375,\"rgb(158,202,225)\"],[0.5,\"rgb(107,174,214)\"],[0.625,\"rgb(66,146,198)\"],[0.75,\"rgb(33,113,181)\"],[0.875,\"rgb(8,81,156)\"],[1.0,\"rgb(8,48,107)\"]],\"line\":{\"color\":\"Grey\",\"width\":0.5},\"showscale\":false},\"mode\":\"markers\",\"name\":\"Feasible Trial\",\"showlegend\":false,\"x\":[750,865,755,700,875,730,995,1000,975,745,805,805,815,790,910,785,830,700,905,770,840,820,835,730,860,890,785,935,845,845,945,805,745,870,755,850,770,885,720,835,835,860,865,890,920,895,930,960,880,860],\"y\":[0.9125827814569536,0.8947019867549669,0.8966887417218543,0.9122516556291391,0.9079470198675497,0.8966887417218543,0.9026490066225166,0.9059602649006623,0.9096026490066225,0.9149006622516557,0.9132450331125828,0.9105960264900662,0.9089403973509934,0.9112582781456954,0.9129139072847682,0.9069536423841059,0.9132450331125828,0.9129139072847682,0.9122516556291391,0.9105960264900662,0.91158940397351,0.9129139072847682,0.9139072847682119,0.9089403973509934,0.9089403973509934,0.9132450331125828,0.9119205298013245,0.909271523178808,0.9142384105960265,0.9129139072847682,0.9105960264900662,0.9135761589403973,0.9132450331125828,0.9132450331125828,0.9096026490066225,0.91158940397351,0.9082781456953642,0.9109271523178808,0.91158940397351,0.9152317880794701,0.9079470198675497,0.9145695364238411,0.9132450331125828,0.9145695364238411,0.91158940397351,0.9089403973509934,0.9129139072847682,0.9125827814569536,0.9139072847682119,0.909933774834437],\"type\":\"scatter\",\"xaxis\":\"x5\",\"yaxis\":\"y5\"},{\"marker\":{\"color\":[0,1,2,3,4,5,6,7,8,9,10,11,12,13,14,15,16,17,18,19,20,21,22,23,24,25,26,27,28,29,30,31,32,33,34,35,36,37,38,39,40,41,42,43,44,45,46,47,48,49],\"colorbar\":{\"title\":{\"text\":\"Trial\"},\"x\":1.0,\"xpad\":40},\"colorscale\":[[0.0,\"rgb(247,251,255)\"],[0.125,\"rgb(222,235,247)\"],[0.25,\"rgb(198,219,239)\"],[0.375,\"rgb(158,202,225)\"],[0.5,\"rgb(107,174,214)\"],[0.625,\"rgb(66,146,198)\"],[0.75,\"rgb(33,113,181)\"],[0.875,\"rgb(8,81,156)\"],[1.0,\"rgb(8,48,107)\"]],\"line\":{\"color\":\"Grey\",\"width\":0.5},\"showscale\":false},\"mode\":\"markers\",\"name\":\"Feasible Trial\",\"showlegend\":false,\"x\":[3.947798374445744,3.985386384872591,4.124418883645227,3.727737012245797,5.3401047553716126,3.4136448041884524,3.974805801140541,4.225217056704379,3.213855863318239,3.135516208902791,2.3623958725540106,2.1064271574839406,2.263164675053939,2.8002497819202614,2.6641479803060464,4.7420886130599325,2.9105728126285055,2.3446508642854087,3.2488184959989868,5.695602379747973,2.502457439949793,2.8913046423640436,3.006112851360344,2.046194413127945,3.446508065815518,3.0493346417868143,2.5456572063030642,4.583208458809641,3.6343413686644626,3.6688924909444123,4.334984418005971,3.640294865343151,3.6727221556649976,3.4460029623707453,3.7780218678744095,3.050386068319904,3.246294912247733,3.857316862874318,3.5486270170251046,4.069889496209269,4.99393789564555,4.158175995095174,4.113271972006675,4.284875394989165,4.340540312469633,4.023456951926543,4.744740970789198,4.526777368513627,5.18334435847612,3.981528947055177],\"y\":[0.9125827814569536,0.8947019867549669,0.8966887417218543,0.9122516556291391,0.9079470198675497,0.8966887417218543,0.9026490066225166,0.9059602649006623,0.9096026490066225,0.9149006622516557,0.9132450331125828,0.9105960264900662,0.9089403973509934,0.9112582781456954,0.9129139072847682,0.9069536423841059,0.9132450331125828,0.9129139072847682,0.9122516556291391,0.9105960264900662,0.91158940397351,0.9129139072847682,0.9139072847682119,0.9089403973509934,0.9089403973509934,0.9132450331125828,0.9119205298013245,0.909271523178808,0.9142384105960265,0.9129139072847682,0.9105960264900662,0.9135761589403973,0.9132450331125828,0.9132450331125828,0.9096026490066225,0.91158940397351,0.9082781456953642,0.9109271523178808,0.91158940397351,0.9152317880794701,0.9079470198675497,0.9145695364238411,0.9132450331125828,0.9145695364238411,0.91158940397351,0.9089403973509934,0.9129139072847682,0.9125827814569536,0.9139072847682119,0.909933774834437],\"type\":\"scatter\",\"xaxis\":\"x6\",\"yaxis\":\"y6\"},{\"marker\":{\"color\":[0,1,2,3,4,5,6,7,8,9,10,11,12,13,14,15,16,17,18,19,20,21,22,23,24,25,26,27,28,29,30,31,32,33,34,35,36,37,38,39,40,41,42,43,44,45,46,47,48,49],\"colorbar\":{\"title\":{\"text\":\"Trial\"},\"x\":1.0,\"xpad\":40},\"colorscale\":[[0.0,\"rgb(247,251,255)\"],[0.125,\"rgb(222,235,247)\"],[0.25,\"rgb(198,219,239)\"],[0.375,\"rgb(158,202,225)\"],[0.5,\"rgb(107,174,214)\"],[0.625,\"rgb(66,146,198)\"],[0.75,\"rgb(33,113,181)\"],[0.875,\"rgb(8,81,156)\"],[1.0,\"rgb(8,48,107)\"]],\"line\":{\"color\":\"Grey\",\"width\":0.5},\"showscale\":false},\"mode\":\"markers\",\"name\":\"Feasible Trial\",\"showlegend\":false,\"x\":[0.6183400738708933,0.4007361807652956,1.6562289724181671,0.06042181704892746,1.0815825845816338,1.3687012159441576,0.48111255832683386,1.27849288900354,0.26370181146325233,0.5205739491364443,0.786688978639362,0.8416429763813154,0.8735216047513783,1.9554997441454862,0.7134808820362064,1.077011051679274,0.2552215061164522,0.08341048610163915,0.5834176624511244,1.326085846888545,0.8029416417160883,0.28764697757952656,0.25795246241101005,0.44547935230012875,0.610153816334909,0.946587447617501,0.1463901726804912,0.37307460337684273,0.7496409507981172,0.587245795911784,0.5191989343339681,0.6866824415717149,0.6921754208670766,0.3762845448863987,0.18896747982543105,0.997241513084492,0.6585442541044865,1.1095131756297758,1.202533040249733,1.5649204974345132,1.6219687233806475,1.737229477359464,1.545946781132941,1.8620471318448917,1.853216108038474,1.7570659909415196,1.4951124766894153,1.9923736314329705,1.840596184396438,1.4355021576381868],\"y\":[0.9125827814569536,0.8947019867549669,0.8966887417218543,0.9122516556291391,0.9079470198675497,0.8966887417218543,0.9026490066225166,0.9059602649006623,0.9096026490066225,0.9149006622516557,0.9132450331125828,0.9105960264900662,0.9089403973509934,0.9112582781456954,0.9129139072847682,0.9069536423841059,0.9132450331125828,0.9129139072847682,0.9122516556291391,0.9105960264900662,0.91158940397351,0.9129139072847682,0.9139072847682119,0.9089403973509934,0.9089403973509934,0.9132450331125828,0.9119205298013245,0.909271523178808,0.9142384105960265,0.9129139072847682,0.9105960264900662,0.9135761589403973,0.9132450331125828,0.9132450331125828,0.9096026490066225,0.91158940397351,0.9082781456953642,0.9109271523178808,0.91158940397351,0.9152317880794701,0.9079470198675497,0.9145695364238411,0.9132450331125828,0.9145695364238411,0.91158940397351,0.9089403973509934,0.9129139072847682,0.9125827814569536,0.9139072847682119,0.909933774834437],\"type\":\"scatter\",\"xaxis\":\"x7\",\"yaxis\":\"y7\"},{\"marker\":{\"color\":[0,1,2,3,4,5,6,7,8,9,10,11,12,13,14,15,16,17,18,19,20,21,22,23,24,25,26,27,28,29,30,31,32,33,34,35,36,37,38,39,40,41,42,43,44,45,46,47,48,49],\"colorbar\":{\"title\":{\"text\":\"Trial\"},\"x\":1.0,\"xpad\":40},\"colorscale\":[[0.0,\"rgb(247,251,255)\"],[0.125,\"rgb(222,235,247)\"],[0.25,\"rgb(198,219,239)\"],[0.375,\"rgb(158,202,225)\"],[0.5,\"rgb(107,174,214)\"],[0.625,\"rgb(66,146,198)\"],[0.75,\"rgb(33,113,181)\"],[0.875,\"rgb(8,81,156)\"],[1.0,\"rgb(8,48,107)\"]],\"line\":{\"color\":\"Grey\",\"width\":0.5},\"showscale\":false},\"mode\":\"markers\",\"name\":\"Feasible Trial\",\"showlegend\":false,\"x\":[0.9,0.3,0.7,0.9,0.5,0.6000000000000001,0.3,0.3,0.8,0.7,0.5,0.5,0.5,0.7,0.6000000000000001,0.4,0.7,0.8,0.4,0.6000000000000001,0.8,0.7,0.7,0.5,0.6000000000000001,0.8,0.4,0.7,0.6000000000000001,0.9,0.7,0.6000000000000001,0.6000000000000001,0.7,0.6000000000000001,0.7,0.8,0.6000000000000001,0.7,0.5,0.5,0.6000000000000001,0.5,0.6000000000000001,0.4,0.5,0.6000000000000001,0.5,0.6000000000000001,0.5],\"y\":[0.9125827814569536,0.8947019867549669,0.8966887417218543,0.9122516556291391,0.9079470198675497,0.8966887417218543,0.9026490066225166,0.9059602649006623,0.9096026490066225,0.9149006622516557,0.9132450331125828,0.9105960264900662,0.9089403973509934,0.9112582781456954,0.9129139072847682,0.9069536423841059,0.9132450331125828,0.9129139072847682,0.9122516556291391,0.9105960264900662,0.91158940397351,0.9129139072847682,0.9139072847682119,0.9089403973509934,0.9089403973509934,0.9132450331125828,0.9119205298013245,0.909271523178808,0.9142384105960265,0.9129139072847682,0.9105960264900662,0.9135761589403973,0.9132450331125828,0.9132450331125828,0.9096026490066225,0.91158940397351,0.9082781456953642,0.9109271523178808,0.91158940397351,0.9152317880794701,0.9079470198675497,0.9145695364238411,0.9132450331125828,0.9145695364238411,0.91158940397351,0.9089403973509934,0.9129139072847682,0.9125827814569536,0.9139072847682119,0.909933774834437],\"type\":\"scatter\",\"xaxis\":\"x8\",\"yaxis\":\"y8\"}],                        {\"template\":{\"data\":{\"histogram2dcontour\":[{\"type\":\"histogram2dcontour\",\"colorbar\":{\"outlinewidth\":0,\"ticks\":\"\"},\"colorscale\":[[0.0,\"#0d0887\"],[0.1111111111111111,\"#46039f\"],[0.2222222222222222,\"#7201a8\"],[0.3333333333333333,\"#9c179e\"],[0.4444444444444444,\"#bd3786\"],[0.5555555555555556,\"#d8576b\"],[0.6666666666666666,\"#ed7953\"],[0.7777777777777778,\"#fb9f3a\"],[0.8888888888888888,\"#fdca26\"],[1.0,\"#f0f921\"]]}],\"choropleth\":[{\"type\":\"choropleth\",\"colorbar\":{\"outlinewidth\":0,\"ticks\":\"\"}}],\"histogram2d\":[{\"type\":\"histogram2d\",\"colorbar\":{\"outlinewidth\":0,\"ticks\":\"\"},\"colorscale\":[[0.0,\"#0d0887\"],[0.1111111111111111,\"#46039f\"],[0.2222222222222222,\"#7201a8\"],[0.3333333333333333,\"#9c179e\"],[0.4444444444444444,\"#bd3786\"],[0.5555555555555556,\"#d8576b\"],[0.6666666666666666,\"#ed7953\"],[0.7777777777777778,\"#fb9f3a\"],[0.8888888888888888,\"#fdca26\"],[1.0,\"#f0f921\"]]}],\"heatmap\":[{\"type\":\"heatmap\",\"colorbar\":{\"outlinewidth\":0,\"ticks\":\"\"},\"colorscale\":[[0.0,\"#0d0887\"],[0.1111111111111111,\"#46039f\"],[0.2222222222222222,\"#7201a8\"],[0.3333333333333333,\"#9c179e\"],[0.4444444444444444,\"#bd3786\"],[0.5555555555555556,\"#d8576b\"],[0.6666666666666666,\"#ed7953\"],[0.7777777777777778,\"#fb9f3a\"],[0.8888888888888888,\"#fdca26\"],[1.0,\"#f0f921\"]]}],\"heatmapgl\":[{\"type\":\"heatmapgl\",\"colorbar\":{\"outlinewidth\":0,\"ticks\":\"\"},\"colorscale\":[[0.0,\"#0d0887\"],[0.1111111111111111,\"#46039f\"],[0.2222222222222222,\"#7201a8\"],[0.3333333333333333,\"#9c179e\"],[0.4444444444444444,\"#bd3786\"],[0.5555555555555556,\"#d8576b\"],[0.6666666666666666,\"#ed7953\"],[0.7777777777777778,\"#fb9f3a\"],[0.8888888888888888,\"#fdca26\"],[1.0,\"#f0f921\"]]}],\"contourcarpet\":[{\"type\":\"contourcarpet\",\"colorbar\":{\"outlinewidth\":0,\"ticks\":\"\"}}],\"contour\":[{\"type\":\"contour\",\"colorbar\":{\"outlinewidth\":0,\"ticks\":\"\"},\"colorscale\":[[0.0,\"#0d0887\"],[0.1111111111111111,\"#46039f\"],[0.2222222222222222,\"#7201a8\"],[0.3333333333333333,\"#9c179e\"],[0.4444444444444444,\"#bd3786\"],[0.5555555555555556,\"#d8576b\"],[0.6666666666666666,\"#ed7953\"],[0.7777777777777778,\"#fb9f3a\"],[0.8888888888888888,\"#fdca26\"],[1.0,\"#f0f921\"]]}],\"surface\":[{\"type\":\"surface\",\"colorbar\":{\"outlinewidth\":0,\"ticks\":\"\"},\"colorscale\":[[0.0,\"#0d0887\"],[0.1111111111111111,\"#46039f\"],[0.2222222222222222,\"#7201a8\"],[0.3333333333333333,\"#9c179e\"],[0.4444444444444444,\"#bd3786\"],[0.5555555555555556,\"#d8576b\"],[0.6666666666666666,\"#ed7953\"],[0.7777777777777778,\"#fb9f3a\"],[0.8888888888888888,\"#fdca26\"],[1.0,\"#f0f921\"]]}],\"mesh3d\":[{\"type\":\"mesh3d\",\"colorbar\":{\"outlinewidth\":0,\"ticks\":\"\"}}],\"scatter\":[{\"fillpattern\":{\"fillmode\":\"overlay\",\"size\":10,\"solidity\":0.2},\"type\":\"scatter\"}],\"parcoords\":[{\"type\":\"parcoords\",\"line\":{\"colorbar\":{\"outlinewidth\":0,\"ticks\":\"\"}}}],\"scatterpolargl\":[{\"type\":\"scatterpolargl\",\"marker\":{\"colorbar\":{\"outlinewidth\":0,\"ticks\":\"\"}}}],\"bar\":[{\"error_x\":{\"color\":\"#2a3f5f\"},\"error_y\":{\"color\":\"#2a3f5f\"},\"marker\":{\"line\":{\"color\":\"#E5ECF6\",\"width\":0.5},\"pattern\":{\"fillmode\":\"overlay\",\"size\":10,\"solidity\":0.2}},\"type\":\"bar\"}],\"scattergeo\":[{\"type\":\"scattergeo\",\"marker\":{\"colorbar\":{\"outlinewidth\":0,\"ticks\":\"\"}}}],\"scatterpolar\":[{\"type\":\"scatterpolar\",\"marker\":{\"colorbar\":{\"outlinewidth\":0,\"ticks\":\"\"}}}],\"histogram\":[{\"marker\":{\"pattern\":{\"fillmode\":\"overlay\",\"size\":10,\"solidity\":0.2}},\"type\":\"histogram\"}],\"scattergl\":[{\"type\":\"scattergl\",\"marker\":{\"colorbar\":{\"outlinewidth\":0,\"ticks\":\"\"}}}],\"scatter3d\":[{\"type\":\"scatter3d\",\"line\":{\"colorbar\":{\"outlinewidth\":0,\"ticks\":\"\"}},\"marker\":{\"colorbar\":{\"outlinewidth\":0,\"ticks\":\"\"}}}],\"scattermapbox\":[{\"type\":\"scattermapbox\",\"marker\":{\"colorbar\":{\"outlinewidth\":0,\"ticks\":\"\"}}}],\"scatterternary\":[{\"type\":\"scatterternary\",\"marker\":{\"colorbar\":{\"outlinewidth\":0,\"ticks\":\"\"}}}],\"scattercarpet\":[{\"type\":\"scattercarpet\",\"marker\":{\"colorbar\":{\"outlinewidth\":0,\"ticks\":\"\"}}}],\"carpet\":[{\"aaxis\":{\"endlinecolor\":\"#2a3f5f\",\"gridcolor\":\"white\",\"linecolor\":\"white\",\"minorgridcolor\":\"white\",\"startlinecolor\":\"#2a3f5f\"},\"baxis\":{\"endlinecolor\":\"#2a3f5f\",\"gridcolor\":\"white\",\"linecolor\":\"white\",\"minorgridcolor\":\"white\",\"startlinecolor\":\"#2a3f5f\"},\"type\":\"carpet\"}],\"table\":[{\"cells\":{\"fill\":{\"color\":\"#EBF0F8\"},\"line\":{\"color\":\"white\"}},\"header\":{\"fill\":{\"color\":\"#C8D4E3\"},\"line\":{\"color\":\"white\"}},\"type\":\"table\"}],\"barpolar\":[{\"marker\":{\"line\":{\"color\":\"#E5ECF6\",\"width\":0.5},\"pattern\":{\"fillmode\":\"overlay\",\"size\":10,\"solidity\":0.2}},\"type\":\"barpolar\"}],\"pie\":[{\"automargin\":true,\"type\":\"pie\"}]},\"layout\":{\"autotypenumbers\":\"strict\",\"colorway\":[\"#636efa\",\"#EF553B\",\"#00cc96\",\"#ab63fa\",\"#FFA15A\",\"#19d3f3\",\"#FF6692\",\"#B6E880\",\"#FF97FF\",\"#FECB52\"],\"font\":{\"color\":\"#2a3f5f\"},\"hovermode\":\"closest\",\"hoverlabel\":{\"align\":\"left\"},\"paper_bgcolor\":\"white\",\"plot_bgcolor\":\"#E5ECF6\",\"polar\":{\"bgcolor\":\"#E5ECF6\",\"angularaxis\":{\"gridcolor\":\"white\",\"linecolor\":\"white\",\"ticks\":\"\"},\"radialaxis\":{\"gridcolor\":\"white\",\"linecolor\":\"white\",\"ticks\":\"\"}},\"ternary\":{\"bgcolor\":\"#E5ECF6\",\"aaxis\":{\"gridcolor\":\"white\",\"linecolor\":\"white\",\"ticks\":\"\"},\"baxis\":{\"gridcolor\":\"white\",\"linecolor\":\"white\",\"ticks\":\"\"},\"caxis\":{\"gridcolor\":\"white\",\"linecolor\":\"white\",\"ticks\":\"\"}},\"coloraxis\":{\"colorbar\":{\"outlinewidth\":0,\"ticks\":\"\"}},\"colorscale\":{\"sequential\":[[0.0,\"#0d0887\"],[0.1111111111111111,\"#46039f\"],[0.2222222222222222,\"#7201a8\"],[0.3333333333333333,\"#9c179e\"],[0.4444444444444444,\"#bd3786\"],[0.5555555555555556,\"#d8576b\"],[0.6666666666666666,\"#ed7953\"],[0.7777777777777778,\"#fb9f3a\"],[0.8888888888888888,\"#fdca26\"],[1.0,\"#f0f921\"]],\"sequentialminus\":[[0.0,\"#0d0887\"],[0.1111111111111111,\"#46039f\"],[0.2222222222222222,\"#7201a8\"],[0.3333333333333333,\"#9c179e\"],[0.4444444444444444,\"#bd3786\"],[0.5555555555555556,\"#d8576b\"],[0.6666666666666666,\"#ed7953\"],[0.7777777777777778,\"#fb9f3a\"],[0.8888888888888888,\"#fdca26\"],[1.0,\"#f0f921\"]],\"diverging\":[[0,\"#8e0152\"],[0.1,\"#c51b7d\"],[0.2,\"#de77ae\"],[0.3,\"#f1b6da\"],[0.4,\"#fde0ef\"],[0.5,\"#f7f7f7\"],[0.6,\"#e6f5d0\"],[0.7,\"#b8e186\"],[0.8,\"#7fbc41\"],[0.9,\"#4d9221\"],[1,\"#276419\"]]},\"xaxis\":{\"gridcolor\":\"white\",\"linecolor\":\"white\",\"ticks\":\"\",\"title\":{\"standoff\":15},\"zerolinecolor\":\"white\",\"automargin\":true,\"zerolinewidth\":2},\"yaxis\":{\"gridcolor\":\"white\",\"linecolor\":\"white\",\"ticks\":\"\",\"title\":{\"standoff\":15},\"zerolinecolor\":\"white\",\"automargin\":true,\"zerolinewidth\":2},\"scene\":{\"xaxis\":{\"backgroundcolor\":\"#E5ECF6\",\"gridcolor\":\"white\",\"linecolor\":\"white\",\"showbackground\":true,\"ticks\":\"\",\"zerolinecolor\":\"white\",\"gridwidth\":2},\"yaxis\":{\"backgroundcolor\":\"#E5ECF6\",\"gridcolor\":\"white\",\"linecolor\":\"white\",\"showbackground\":true,\"ticks\":\"\",\"zerolinecolor\":\"white\",\"gridwidth\":2},\"zaxis\":{\"backgroundcolor\":\"#E5ECF6\",\"gridcolor\":\"white\",\"linecolor\":\"white\",\"showbackground\":true,\"ticks\":\"\",\"zerolinecolor\":\"white\",\"gridwidth\":2}},\"shapedefaults\":{\"line\":{\"color\":\"#2a3f5f\"}},\"annotationdefaults\":{\"arrowcolor\":\"#2a3f5f\",\"arrowhead\":0,\"arrowwidth\":1},\"geo\":{\"bgcolor\":\"white\",\"landcolor\":\"#E5ECF6\",\"subunitcolor\":\"white\",\"showland\":true,\"showlakes\":true,\"lakecolor\":\"white\"},\"title\":{\"x\":0.05},\"mapbox\":{\"style\":\"light\"}}},\"xaxis\":{\"anchor\":\"y\",\"domain\":[0.0,0.103125],\"title\":{\"text\":\"colsample_bytree\"}},\"yaxis\":{\"anchor\":\"x\",\"domain\":[0.0,1.0],\"title\":{\"text\":\"Objective Value\"}},\"xaxis2\":{\"anchor\":\"y2\",\"domain\":[0.128125,0.23124999999999998],\"title\":{\"text\":\"gamma\"}},\"yaxis2\":{\"anchor\":\"x2\",\"domain\":[0.0,1.0],\"matches\":\"y\",\"showticklabels\":false},\"xaxis3\":{\"anchor\":\"y3\",\"domain\":[0.25625,0.359375],\"title\":{\"text\":\"max_depth\"}},\"yaxis3\":{\"anchor\":\"x3\",\"domain\":[0.0,1.0],\"matches\":\"y\",\"showticklabels\":false},\"xaxis4\":{\"anchor\":\"y4\",\"domain\":[0.38437499999999997,0.48749999999999993],\"title\":{\"text\":\"min_child_weight\"}},\"yaxis4\":{\"anchor\":\"x4\",\"domain\":[0.0,1.0],\"matches\":\"y\",\"showticklabels\":false},\"xaxis5\":{\"anchor\":\"y5\",\"domain\":[0.5125,0.615625],\"title\":{\"text\":\"n_estimators\"}},\"yaxis5\":{\"anchor\":\"x5\",\"domain\":[0.0,1.0],\"matches\":\"y\",\"showticklabels\":false},\"xaxis6\":{\"anchor\":\"y6\",\"domain\":[0.640625,0.74375],\"title\":{\"text\":\"reg_alpha\"}},\"yaxis6\":{\"anchor\":\"x6\",\"domain\":[0.0,1.0],\"matches\":\"y\",\"showticklabels\":false},\"xaxis7\":{\"anchor\":\"y7\",\"domain\":[0.76875,0.8718750000000001],\"title\":{\"text\":\"reg_lambda\"}},\"yaxis7\":{\"anchor\":\"x7\",\"domain\":[0.0,1.0],\"matches\":\"y\",\"showticklabels\":false},\"xaxis8\":{\"anchor\":\"y8\",\"domain\":[0.8968750000000001,1.0],\"title\":{\"text\":\"subsample\"}},\"yaxis8\":{\"anchor\":\"x8\",\"domain\":[0.0,1.0],\"matches\":\"y\",\"showticklabels\":false},\"title\":{\"text\":\"Slice Plot\"},\"width\":2400},                        {\"responsive\": true}                    ).then(function(){\n",
              "                            \n",
              "var gd = document.getElementById('55ef63b2-adcd-44c9-bf00-45df4f326fe6');\n",
              "var x = new MutationObserver(function (mutations, observer) {{\n",
              "        var display = window.getComputedStyle(gd).display;\n",
              "        if (!display || display === 'none') {{\n",
              "            console.log([gd, 'removed!']);\n",
              "            Plotly.purge(gd);\n",
              "            observer.disconnect();\n",
              "        }}\n",
              "}});\n",
              "\n",
              "// Listen for the removal of the full notebook cells\n",
              "var notebookContainer = gd.closest('#notebook-container');\n",
              "if (notebookContainer) {{\n",
              "    x.observe(notebookContainer, {childList: true});\n",
              "}}\n",
              "\n",
              "// Listen for the clearing of the current output cell\n",
              "var outputEl = gd.closest('.output');\n",
              "if (outputEl) {{\n",
              "    x.observe(outputEl, {childList: true});\n",
              "}}\n",
              "\n",
              "                        })                };                            </script>        </div>\n",
              "</body>\n",
              "</html>"
            ]
          },
          "metadata": {}
        }
      ]
    },
    {
      "cell_type": "code",
      "source": [
        "model = xgb.XGBClassifier(n_estimators= 740,\n",
        " reg_lambda= 0.2187848613421278,\n",
        " reg_alpha= 3.525658207370625,\n",
        " subsample=0.9,\n",
        " colsample_bytree=0.9,\n",
        " max_depth= 10,\n",
        " min_child_weight= 5,\n",
        " gamma= 0.22713372827916722,\n",
        " learning_rate= 0.03,\n",
        " booster='gbtree',\n",
        " eval_metric='logloss',\n",
        " objective='binary:hinge')\n",
        "model.fit(X_resampled_smote, y_resampled_smote)\n",
        "\n",
        "# {'n_estimators': 700,\n",
        "#  'reg_lambda': 0,\n",
        "#  'reg_alpha': 2,\n",
        "#  'subsample': 0.9,\n",
        "#  'colsample_bytree': 0.9,\n",
        "#  'max_depth': 10,\n",
        "#  'min_child_weight': 5,\n",
        "#  'gamma': 0.2559067753503072}  gives accuracy 91.62\n",
        "\n",
        "# {'n_estimators': 740, 'reg_lambda': 0.2187848613421278,\n",
        "#  'reg_alpha': 3.525658207370625, 'subsample': 0.9, 'colsample_bytree': 0.9,\n",
        "#  'max_depth': 10, 'min_child_weight': 5, 'gamma': 0.22713372827916722}\n",
        "# accuracy = 91.82"
      ],
      "metadata": {
        "colab": {
          "base_uri": "https://localhost:8080/",
          "height": 248
        },
        "id": "5Mx-4J3zcdWE",
        "outputId": "e5cba31d-2e11-4e9e-ad2a-1592388b1e3a"
      },
      "execution_count": 141,
      "outputs": [
        {
          "output_type": "execute_result",
          "data": {
            "text/plain": [
              "XGBClassifier(base_score=None, booster='gbtree', callbacks=None,\n",
              "              colsample_bylevel=None, colsample_bynode=None,\n",
              "              colsample_bytree=0.9, device=None, early_stopping_rounds=None,\n",
              "              enable_categorical=False, eval_metric='logloss',\n",
              "              feature_types=None, gamma=0.22713372827916722, grow_policy=None,\n",
              "              importance_type=None, interaction_constraints=None,\n",
              "              learning_rate=0.03, max_bin=None, max_cat_threshold=None,\n",
              "              max_cat_to_onehot=None, max_delta_step=None, max_depth=10,\n",
              "              max_leaves=None, min_child_weight=5, missing=nan,\n",
              "              monotone_constraints=None, multi_strategy=None, n_estimators=740,\n",
              "              n_jobs=None, num_parallel_tree=None, objective='binary:hinge', ...)"
            ],
            "text/html": [
              "<style>#sk-container-id-11 {color: black;background-color: white;}#sk-container-id-11 pre{padding: 0;}#sk-container-id-11 div.sk-toggleable {background-color: white;}#sk-container-id-11 label.sk-toggleable__label {cursor: pointer;display: block;width: 100%;margin-bottom: 0;padding: 0.3em;box-sizing: border-box;text-align: center;}#sk-container-id-11 label.sk-toggleable__label-arrow:before {content: \"▸\";float: left;margin-right: 0.25em;color: #696969;}#sk-container-id-11 label.sk-toggleable__label-arrow:hover:before {color: black;}#sk-container-id-11 div.sk-estimator:hover label.sk-toggleable__label-arrow:before {color: black;}#sk-container-id-11 div.sk-toggleable__content {max-height: 0;max-width: 0;overflow: hidden;text-align: left;background-color: #f0f8ff;}#sk-container-id-11 div.sk-toggleable__content pre {margin: 0.2em;color: black;border-radius: 0.25em;background-color: #f0f8ff;}#sk-container-id-11 input.sk-toggleable__control:checked~div.sk-toggleable__content {max-height: 200px;max-width: 100%;overflow: auto;}#sk-container-id-11 input.sk-toggleable__control:checked~label.sk-toggleable__label-arrow:before {content: \"▾\";}#sk-container-id-11 div.sk-estimator input.sk-toggleable__control:checked~label.sk-toggleable__label {background-color: #d4ebff;}#sk-container-id-11 div.sk-label input.sk-toggleable__control:checked~label.sk-toggleable__label {background-color: #d4ebff;}#sk-container-id-11 input.sk-hidden--visually {border: 0;clip: rect(1px 1px 1px 1px);clip: rect(1px, 1px, 1px, 1px);height: 1px;margin: -1px;overflow: hidden;padding: 0;position: absolute;width: 1px;}#sk-container-id-11 div.sk-estimator {font-family: monospace;background-color: #f0f8ff;border: 1px dotted black;border-radius: 0.25em;box-sizing: border-box;margin-bottom: 0.5em;}#sk-container-id-11 div.sk-estimator:hover {background-color: #d4ebff;}#sk-container-id-11 div.sk-parallel-item::after {content: \"\";width: 100%;border-bottom: 1px solid gray;flex-grow: 1;}#sk-container-id-11 div.sk-label:hover label.sk-toggleable__label {background-color: #d4ebff;}#sk-container-id-11 div.sk-serial::before {content: \"\";position: absolute;border-left: 1px solid gray;box-sizing: border-box;top: 0;bottom: 0;left: 50%;z-index: 0;}#sk-container-id-11 div.sk-serial {display: flex;flex-direction: column;align-items: center;background-color: white;padding-right: 0.2em;padding-left: 0.2em;position: relative;}#sk-container-id-11 div.sk-item {position: relative;z-index: 1;}#sk-container-id-11 div.sk-parallel {display: flex;align-items: stretch;justify-content: center;background-color: white;position: relative;}#sk-container-id-11 div.sk-item::before, #sk-container-id-11 div.sk-parallel-item::before {content: \"\";position: absolute;border-left: 1px solid gray;box-sizing: border-box;top: 0;bottom: 0;left: 50%;z-index: -1;}#sk-container-id-11 div.sk-parallel-item {display: flex;flex-direction: column;z-index: 1;position: relative;background-color: white;}#sk-container-id-11 div.sk-parallel-item:first-child::after {align-self: flex-end;width: 50%;}#sk-container-id-11 div.sk-parallel-item:last-child::after {align-self: flex-start;width: 50%;}#sk-container-id-11 div.sk-parallel-item:only-child::after {width: 0;}#sk-container-id-11 div.sk-dashed-wrapped {border: 1px dashed gray;margin: 0 0.4em 0.5em 0.4em;box-sizing: border-box;padding-bottom: 0.4em;background-color: white;}#sk-container-id-11 div.sk-label label {font-family: monospace;font-weight: bold;display: inline-block;line-height: 1.2em;}#sk-container-id-11 div.sk-label-container {text-align: center;}#sk-container-id-11 div.sk-container {/* jupyter's `normalize.less` sets `[hidden] { display: none; }` but bootstrap.min.css set `[hidden] { display: none !important; }` so we also need the `!important` here to be able to override the default hidden behavior on the sphinx rendered scikit-learn.org. See: https://github.com/scikit-learn/scikit-learn/issues/21755 */display: inline-block !important;position: relative;}#sk-container-id-11 div.sk-text-repr-fallback {display: none;}</style><div id=\"sk-container-id-11\" class=\"sk-top-container\"><div class=\"sk-text-repr-fallback\"><pre>XGBClassifier(base_score=None, booster=&#x27;gbtree&#x27;, callbacks=None,\n",
              "              colsample_bylevel=None, colsample_bynode=None,\n",
              "              colsample_bytree=0.9, device=None, early_stopping_rounds=None,\n",
              "              enable_categorical=False, eval_metric=&#x27;logloss&#x27;,\n",
              "              feature_types=None, gamma=0.22713372827916722, grow_policy=None,\n",
              "              importance_type=None, interaction_constraints=None,\n",
              "              learning_rate=0.03, max_bin=None, max_cat_threshold=None,\n",
              "              max_cat_to_onehot=None, max_delta_step=None, max_depth=10,\n",
              "              max_leaves=None, min_child_weight=5, missing=nan,\n",
              "              monotone_constraints=None, multi_strategy=None, n_estimators=740,\n",
              "              n_jobs=None, num_parallel_tree=None, objective=&#x27;binary:hinge&#x27;, ...)</pre><b>In a Jupyter environment, please rerun this cell to show the HTML representation or trust the notebook. <br />On GitHub, the HTML representation is unable to render, please try loading this page with nbviewer.org.</b></div><div class=\"sk-container\" hidden><div class=\"sk-item\"><div class=\"sk-estimator sk-toggleable\"><input class=\"sk-toggleable__control sk-hidden--visually\" id=\"sk-estimator-id-11\" type=\"checkbox\" checked><label for=\"sk-estimator-id-11\" class=\"sk-toggleable__label sk-toggleable__label-arrow\">XGBClassifier</label><div class=\"sk-toggleable__content\"><pre>XGBClassifier(base_score=None, booster=&#x27;gbtree&#x27;, callbacks=None,\n",
              "              colsample_bylevel=None, colsample_bynode=None,\n",
              "              colsample_bytree=0.9, device=None, early_stopping_rounds=None,\n",
              "              enable_categorical=False, eval_metric=&#x27;logloss&#x27;,\n",
              "              feature_types=None, gamma=0.22713372827916722, grow_policy=None,\n",
              "              importance_type=None, interaction_constraints=None,\n",
              "              learning_rate=0.03, max_bin=None, max_cat_threshold=None,\n",
              "              max_cat_to_onehot=None, max_delta_step=None, max_depth=10,\n",
              "              max_leaves=None, min_child_weight=5, missing=nan,\n",
              "              monotone_constraints=None, multi_strategy=None, n_estimators=740,\n",
              "              n_jobs=None, num_parallel_tree=None, objective=&#x27;binary:hinge&#x27;, ...)</pre></div></div></div></div></div>"
            ]
          },
          "metadata": {},
          "execution_count": 141
        }
      ]
    },
    {
      "cell_type": "code",
      "source": [
        "from sklearn.metrics import confusion_matrix, ConfusionMatrixDisplay\n",
        "\n",
        "y_pred_xgb = model.predict(X_test)\n",
        "\n",
        "# Use the imported confusion_matrix function\n",
        "confusion_matrix_result = confusion_matrix(y_test, y_pred_xgb)\n",
        "cm_display = ConfusionMatrixDisplay(confusion_matrix = confusion_matrix_result, display_labels = [0, 1])\n",
        "\n",
        "cm_display.plot()\n",
        "plt.show()"
      ],
      "metadata": {
        "colab": {
          "base_uri": "https://localhost:8080/",
          "height": 449
        },
        "id": "k8QPjH6fhA9u",
        "outputId": "11892a1c-fd85-403b-cd47-7a83310ea860"
      },
      "execution_count": 142,
      "outputs": [
        {
          "output_type": "display_data",
          "data": {
            "text/plain": [
              "<Figure size 640x480 with 2 Axes>"
            ],
            "image/png": "[encoded data removed]"
          },
          "metadata": {}
        }
      ]
    },
    {
      "cell_type": "code",
      "source": [
        "print(accuracy_score(y_test, y_pred_xgb))"
      ],
      "metadata": {
        "colab": {
          "base_uri": "https://localhost:8080/"
        },
        "id": "OxqpZibCi0hR",
        "outputId": "7b537a6f-f4bc-42e6-dec4-fe3b6bea4861"
      },
      "execution_count": 143,
      "outputs": [
        {
          "output_type": "stream",
          "name": "stdout",
          "text": [
            "0.9182119205298013\n"
          ]
        }
      ]
    },
    {
      "cell_type": "code",
      "source": [
        "from xgboost import plot_importance\n",
        "plot_importance(model)\n",
        "\n",
        "# Customize the plot (optional)\n",
        "plt.title('Feature Importance')\n",
        "plt.xlabel('F Score')\n",
        "plt.ylabel('Features')\n",
        "plt.show()"
      ],
      "metadata": {
        "colab": {
          "base_uri": "https://localhost:8080/",
          "height": 472
        },
        "id": "H-yEF_fjjMJD",
        "outputId": "6718dba1-c630-48ef-b059-60e038fe541a"
      },
      "execution_count": 144,
      "outputs": [
        {
          "output_type": "display_data",
          "data": {
            "text/plain": [
              "<Figure size 640x480 with 1 Axes>"
            ],
            "image/png": "[encoded data removed]"
          },
          "metadata": {}
        }
      ]
    },
    {
      "cell_type": "code",
      "source": [
        "from sklearn.model_selection import KFold\n",
        "from sklearn.model_selection import cross_val_score\n",
        "from sklearn.model_selection import ShuffleSplit\n",
        "cv_ = KFold(n_splits=10)\n",
        "\n",
        "\n",
        "scores = cross_val_score(model, X_resampled_smote,y_resampled_smote , scoring = 'accuracy',n_jobs = -1,cv = cv_)\n",
        "print(np.mean(scores))\n",
        "print(scores)"
      ],
      "metadata": {
        "colab": {
          "base_uri": "https://localhost:8080/"
        },
        "id": "D13OJhK_j4Pd",
        "outputId": "1589501c-8409-4465-96f3-3f3bcdb8b5bd"
      },
      "execution_count": 145,
      "outputs": [
        {
          "output_type": "stream",
          "name": "stdout",
          "text": [
            "0.9649074002060825\n",
            "[0.94019349 0.92919965 0.93711522 0.93843448 0.9353562  0.98065084\n",
            " 0.99692172 0.99692172 0.99516058 0.99912011]\n"
          ]
        }
      ]
    },
    {
      "cell_type": "code",
      "source": [
        "\n",
        "import pickle\n",
        "\n",
        "# Save the model to a file\n",
        "with open('model.pkl', 'wb') as f:\n",
        "    pickle.dump(model, f)\n"
      ],
      "metadata": {
        "id": "EXCnICoNydj5"
      },
      "execution_count": 146,
      "outputs": []
    },
    {
      "cell_type": "code",
      "source": [
        "len(X_resampled_smote.columns)"
      ],
      "metadata": {
        "colab": {
          "base_uri": "https://localhost:8080/"
        },
        "id": "ZW-AK7PS16PQ",
        "outputId": "077e9687-ecf0-4727-8f43-5f9553eaa676"
      },
      "execution_count": 148,
      "outputs": [
        {
          "output_type": "execute_result",
          "data": {
            "text/plain": [
              "28"
            ]
          },
          "metadata": {},
          "execution_count": 148
        }
      ]
    },
    {
      "cell_type": "code",
      "source": [],
      "metadata": {
        "id": "AFHraziU17Xc"
      },
      "execution_count": null,
      "outputs": []
    }
  ]
}